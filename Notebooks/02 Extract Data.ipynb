{
 "cells": [
  {
   "cell_type": "markdown",
   "metadata": {},
   "source": [
    "# **Extract Data**"
   ]
  },
  {
   "cell_type": "code",
   "execution_count": 1,
   "metadata": {
    "vscode": {
     "languageId": "sql"
    }
   },
   "outputs": [],
   "source": [
    "%load_ext sql\n",
    "%sql sqlite:///databases/football.db"
   ]
  },
  {
   "cell_type": "markdown",
   "metadata": {},
   "source": [
    "## Aggregate Functions"
   ]
  },
  {
   "cell_type": "markdown",
   "metadata": {},
   "source": [
    "There are 5 different built in aggregate functions in SQL, namely\n",
    "- `COUNT()`\n",
    "- `MIN()`\n",
    "- `MAX()`\n",
    "- `AVG()`\n",
    "- `SUM()`\n",
    "\n",
    "The `AVG()`and `SUM()`operators can only be used on numeric data as these involve Arithmetic. Similar to the `COUNT()` operator,  `MIN()` and `MAX()` may be used for non-numeric data \n",
    "\n",
    "\n",
    "`COUNT(field_name)`\tnumber of records/rows with a value in a field/column \t\t(excludes null values)  \n",
    "`COUNT(*)`\t\tnumber of records/rows in a table \t\t\t\t(includes null values)"
   ]
  },
  {
   "cell_type": "markdown",
   "metadata": {},
   "source": [
    "## Arithmatic"
   ]
  },
  {
   "cell_type": "markdown",
   "metadata": {},
   "source": [
    "SQL can perform basic arithmetic in the form of `+`,`-`, `*`, and `/`. It should be noted that integers as input will return integers as output; for decimal output one should use float input. \n",
    "\n",
    "The main difference between the aggregate functions and arithmetic is that the former performs the operation across all values in a field/column, while the latter performs the operation on the values in the records/rows."
   ]
  },
  {
   "cell_type": "code",
   "execution_count": 2,
   "metadata": {
    "vscode": {
     "languageId": "sql"
    }
   },
   "outputs": [
    {
     "name": "stdout",
     "output_type": "stream",
     "text": [
      " * sqlite:///databases/football.db\n",
      "Done.\n"
     ]
    },
    {
     "data": {
      "text/html": [
       "<table>\n",
       "    <thead>\n",
       "        <tr>\n",
       "            <th>(1*3)</th>\n",
       "        </tr>\n",
       "    </thead>\n",
       "    <tbody>\n",
       "        <tr>\n",
       "            <td>3</td>\n",
       "        </tr>\n",
       "    </tbody>\n",
       "</table>"
      ],
      "text/plain": [
       "[(3,)]"
      ]
     },
     "execution_count": 2,
     "metadata": {},
     "output_type": "execute_result"
    }
   ],
   "source": [
    "%%sql\n",
    "SELECT(1*3)"
   ]
  },
  {
   "cell_type": "markdown",
   "metadata": {},
   "source": [
    "## Case"
   ]
  },
  {
   "cell_type": "markdown",
   "metadata": {},
   "source": [
    "### `CASE` in `SELECT` Statement"
   ]
  },
  {
   "cell_type": "markdown",
   "metadata": {},
   "source": [
    "When a new column/field needs to be created based on existing data the `CASE` operation may be used. This operation outputs a new value based on the existing data on a case-by-case basis."
   ]
  },
  {
   "cell_type": "code",
   "execution_count": 3,
   "metadata": {
    "vscode": {
     "languageId": "sql"
    }
   },
   "outputs": [
    {
     "name": "stdout",
     "output_type": "stream",
     "text": [
      " * sqlite:///databases/football.db\n",
      "Done.\n"
     ]
    },
    {
     "data": {
      "text/html": [
       "<table>\n",
       "    <thead>\n",
       "        <tr>\n",
       "            <th>id</th>\n",
       "            <th>home_goal</th>\n",
       "            <th>away_goal</th>\n",
       "            <th>outcome</th>\n",
       "        </tr>\n",
       "    </thead>\n",
       "    <tbody>\n",
       "        <tr>\n",
       "            <td>1237</td>\n",
       "            <td>2</td>\n",
       "            <td>0</td>\n",
       "            <td>Home team win</td>\n",
       "        </tr>\n",
       "        <tr>\n",
       "            <td>1238</td>\n",
       "            <td>0</td>\n",
       "            <td>1</td>\n",
       "            <td>Away team win</td>\n",
       "        </tr>\n",
       "        <tr>\n",
       "            <td>1239</td>\n",
       "            <td>1</td>\n",
       "            <td>0</td>\n",
       "            <td>Home team win</td>\n",
       "        </tr>\n",
       "        <tr>\n",
       "            <td>1240</td>\n",
       "            <td>0</td>\n",
       "            <td>0</td>\n",
       "            <td>TIE</td>\n",
       "        </tr>\n",
       "        <tr>\n",
       "            <td>1241</td>\n",
       "            <td>2</td>\n",
       "            <td>1</td>\n",
       "            <td>Home team win</td>\n",
       "        </tr>\n",
       "    </tbody>\n",
       "</table>"
      ],
      "text/plain": [
       "[('1237', '2', '0', 'Home team win'),\n",
       " ('1238', '0', '1', 'Away team win'),\n",
       " ('1239', '1', '0', 'Home team win'),\n",
       " ('1240', '0', '0', 'TIE'),\n",
       " ('1241', '2', '1', 'Home team win')]"
      ]
     },
     "execution_count": 3,
     "metadata": {},
     "output_type": "execute_result"
    }
   ],
   "source": [
    "%%sql\n",
    "SELECT id, home_goal, away_goal,\n",
    "    CASE  \n",
    "        WHEN home_goal > away_goal THEN 'Home team win'\n",
    "        WHEN home_goal < away_goal THEN 'Away team win'\n",
    "        ELSE 'TIE'\n",
    "    END AS outcome\n",
    "FROM matches\n",
    "WHERE season = '2013/2014'\n",
    "LIMIT(5)"
   ]
  },
  {
   "cell_type": "markdown",
   "metadata": {},
   "source": [
    "### `CASE` in `WHERE` Statement"
   ]
  },
  {
   "cell_type": "markdown",
   "metadata": {},
   "source": [
    "The `WHERE` operation is executed before the `SELECT` statement, as a result the alias of a `CASE` operation in the `SELECT` statement cannot be used in the where statement. Instead the entire `CASE` statement can be copy-pasted into the `WHERE` statement in order to filter by the output of the `CASE` statement. "
   ]
  },
  {
   "cell_type": "code",
   "execution_count": 4,
   "metadata": {
    "vscode": {
     "languageId": "sql"
    }
   },
   "outputs": [
    {
     "name": "stdout",
     "output_type": "stream",
     "text": [
      " * sqlite:///databases/football.db\n",
      "Done.\n"
     ]
    },
    {
     "data": {
      "text/html": [
       "<table>\n",
       "    <thead>\n",
       "        <tr>\n",
       "            <th>date</th>\n",
       "            <th>season</th>\n",
       "            <th>outcome</th>\n",
       "        </tr>\n",
       "    </thead>\n",
       "    <tbody>\n",
       "        <tr>\n",
       "            <td>2011-11-05T00:00:00.000</td>\n",
       "            <td>2011/2012</td>\n",
       "            <td>Chealsea away win</td>\n",
       "        </tr>\n",
       "        <tr>\n",
       "            <td>2011-11-26T00:00:00.000</td>\n",
       "            <td>2011/2012</td>\n",
       "            <td>Chealsea home win</td>\n",
       "        </tr>\n",
       "        <tr>\n",
       "            <td>2011-12-03T00:00:00.000</td>\n",
       "            <td>2011/2012</td>\n",
       "            <td>Chealsea away win</td>\n",
       "        </tr>\n",
       "        <tr>\n",
       "            <td>2011-12-12T00:00:00.000</td>\n",
       "            <td>2011/2012</td>\n",
       "            <td>Chealsea home win</td>\n",
       "        </tr>\n",
       "        <tr>\n",
       "            <td>2011-08-20T00:00:00.000</td>\n",
       "            <td>2011/2012</td>\n",
       "            <td>Chealsea home win</td>\n",
       "        </tr>\n",
       "    </tbody>\n",
       "</table>"
      ],
      "text/plain": [
       "[('2011-11-05T00:00:00.000', '2011/2012', 'Chealsea away win'),\n",
       " ('2011-11-26T00:00:00.000', '2011/2012', 'Chealsea home win'),\n",
       " ('2011-12-03T00:00:00.000', '2011/2012', 'Chealsea away win'),\n",
       " ('2011-12-12T00:00:00.000', '2011/2012', 'Chealsea home win'),\n",
       " ('2011-08-20T00:00:00.000', '2011/2012', 'Chealsea home win')]"
      ]
     },
     "execution_count": 4,
     "metadata": {},
     "output_type": "execute_result"
    }
   ],
   "source": [
    "%%sql\n",
    "SELECT date, season,\n",
    "    (CASE \n",
    "        WHEN hometeam_id = 8455 AND home_goal > away_goal THEN 'Chealsea home win'\n",
    "        WHEN awayteam_id = 8455 AND away_goal > home_goal THEN 'Chealsea away win'\n",
    "    END) AS outcome\n",
    "FROM matches\n",
    "WHERE \n",
    "    (CASE \n",
    "        WHEN hometeam_id = 8455 AND home_goal > away_goal THEN 'Chealsea home win'\n",
    "        WHEN awayteam_id = 8455 AND away_goal > home_goal THEN 'Chealsea away win'\n",
    "    END) IS NOT NULL\n",
    "LIMIT(5)\n",
    "    "
   ]
  },
  {
   "cell_type": "markdown",
   "metadata": {},
   "source": [
    "### `CASE` with Aggregate Functions"
   ]
  },
  {
   "cell_type": "markdown",
   "metadata": {},
   "source": [
    "The `CASE` operation will return a column of filtered data, one can then use an aggregate function to summarize the data into a single value. \n",
    "\n",
    "The `COUNT` operator will count the number of non-null rows in this newly created column (so it does not actually matter what value is being returned in the column if the `CASE` operation is only used for counting). "
   ]
  },
  {
   "cell_type": "code",
   "execution_count": 5,
   "metadata": {
    "vscode": {
     "languageId": "sql"
    }
   },
   "outputs": [
    {
     "name": "stdout",
     "output_type": "stream",
     "text": [
      " * sqlite:///databases/football.db\n",
      "Done.\n"
     ]
    },
    {
     "data": {
      "text/html": [
       "<table>\n",
       "    <thead>\n",
       "        <tr>\n",
       "            <th>season</th>\n",
       "            <th>home_wins</th>\n",
       "            <th>away_wins</th>\n",
       "        </tr>\n",
       "    </thead>\n",
       "    <tbody>\n",
       "        <tr>\n",
       "            <td>2011/2012</td>\n",
       "            <td>6</td>\n",
       "            <td>8</td>\n",
       "        </tr>\n",
       "        <tr>\n",
       "            <td>2012/2013</td>\n",
       "            <td>9</td>\n",
       "            <td>7</td>\n",
       "        </tr>\n",
       "        <tr>\n",
       "            <td>2013/2014</td>\n",
       "            <td>16</td>\n",
       "            <td>10</td>\n",
       "        </tr>\n",
       "        <tr>\n",
       "            <td>2014/2015</td>\n",
       "            <td>10</td>\n",
       "            <td>8</td>\n",
       "        </tr>\n",
       "    </tbody>\n",
       "</table>"
      ],
      "text/plain": [
       "[('2011/2012', 6, 8),\n",
       " ('2012/2013', 9, 7),\n",
       " ('2013/2014', 16, 10),\n",
       " ('2014/2015', 10, 8)]"
      ]
     },
     "execution_count": 5,
     "metadata": {},
     "output_type": "execute_result"
    }
   ],
   "source": [
    "%%sql \n",
    "SELECT \n",
    "    season,\n",
    "    COUNT(\n",
    "        CASE \n",
    "            WHEN hometeam_id = 8650 AND home_goal > away_goal THEN id \n",
    "        END\n",
    "    ) AS home_wins,\n",
    "    COUNT(\n",
    "        CASE \n",
    "            WHEN awayteam_id = 8650 AND away_goal > home_goal THEN id \n",
    "        END\n",
    "    ) AS away_wins\n",
    "FROM matches\n",
    "GROUP BY season"
   ]
  },
  {
   "cell_type": "markdown",
   "metadata": {},
   "source": [
    "The `SUM` operator will sum all the numeric values in the newly created column (so in this case it does matter what values are being returned). "
   ]
  },
  {
   "cell_type": "code",
   "execution_count": 6,
   "metadata": {
    "vscode": {
     "languageId": "sql"
    }
   },
   "outputs": [
    {
     "name": "stdout",
     "output_type": "stream",
     "text": [
      " * sqlite:///databases/football.db\n",
      "Done.\n"
     ]
    },
    {
     "data": {
      "text/html": [
       "<table>\n",
       "    <thead>\n",
       "        <tr>\n",
       "            <th>season</th>\n",
       "            <th>home_goals</th>\n",
       "            <th>away_goals</th>\n",
       "        </tr>\n",
       "    </thead>\n",
       "    <tbody>\n",
       "        <tr>\n",
       "            <td>2011/2012</td>\n",
       "            <td>24</td>\n",
       "            <td>23</td>\n",
       "        </tr>\n",
       "        <tr>\n",
       "            <td>2012/2013</td>\n",
       "            <td>33</td>\n",
       "            <td>38</td>\n",
       "        </tr>\n",
       "        <tr>\n",
       "            <td>2013/2014</td>\n",
       "            <td>53</td>\n",
       "            <td>48</td>\n",
       "        </tr>\n",
       "        <tr>\n",
       "            <td>2014/2015</td>\n",
       "            <td>30</td>\n",
       "            <td>22</td>\n",
       "        </tr>\n",
       "    </tbody>\n",
       "</table>"
      ],
      "text/plain": [
       "[('2011/2012', 24, 23),\n",
       " ('2012/2013', 33, 38),\n",
       " ('2013/2014', 53, 48),\n",
       " ('2014/2015', 30, 22)]"
      ]
     },
     "execution_count": 6,
     "metadata": {},
     "output_type": "execute_result"
    }
   ],
   "source": [
    "%%sql \n",
    "SELECT \n",
    "    season,\n",
    "    SUM(\n",
    "        CASE \n",
    "            WHEN hometeam_id = 8650 THEN home_goal \n",
    "        END\n",
    "    ) AS home_goals,\n",
    "    SUM(\n",
    "        CASE \n",
    "            WHEN awayteam_id = 8650 THEN away_goal\n",
    "        END\n",
    "    ) AS away_goals\n",
    "FROM matches\n",
    "GROUP BY season"
   ]
  },
  {
   "cell_type": "markdown",
   "metadata": {},
   "source": [
    "By assigning a binary value in the `CASE` operation, and subsequently using `AVG()`, one is able to easily calculate the percentage of how often something occurs. "
   ]
  },
  {
   "cell_type": "code",
   "execution_count": 7,
   "metadata": {
    "vscode": {
     "languageId": "sql"
    }
   },
   "outputs": [
    {
     "name": "stdout",
     "output_type": "stream",
     "text": [
      " * sqlite:///databases/football.db\n",
      "Done.\n"
     ]
    },
    {
     "data": {
      "text/html": [
       "<table>\n",
       "    <thead>\n",
       "        <tr>\n",
       "            <th>season</th>\n",
       "            <th>pct_homewins</th>\n",
       "            <th>pct_awaywins</th>\n",
       "        </tr>\n",
       "    </thead>\n",
       "    <tbody>\n",
       "        <tr>\n",
       "            <td>2011/2012</td>\n",
       "            <td>0.75</td>\n",
       "            <td>0.5</td>\n",
       "        </tr>\n",
       "        <tr>\n",
       "            <td>2012/2013</td>\n",
       "            <td>0.86</td>\n",
       "            <td>0.67</td>\n",
       "        </tr>\n",
       "        <tr>\n",
       "            <td>2013/2014</td>\n",
       "            <td>0.94</td>\n",
       "            <td>0.67</td>\n",
       "        </tr>\n",
       "        <tr>\n",
       "            <td>2014/2015</td>\n",
       "            <td>1.0</td>\n",
       "            <td>0.79</td>\n",
       "        </tr>\n",
       "    </tbody>\n",
       "</table>"
      ],
      "text/plain": [
       "[('2011/2012', 0.75, 0.5),\n",
       " ('2012/2013', 0.86, 0.67),\n",
       " ('2013/2014', 0.94, 0.67),\n",
       " ('2014/2015', 1.0, 0.79)]"
      ]
     },
     "execution_count": 7,
     "metadata": {},
     "output_type": "execute_result"
    }
   ],
   "source": [
    "%%sql\n",
    "SELECT\n",
    "    season,\n",
    "    ROUND(AVG(\n",
    "        CASE\n",
    "            WHEN hometeam_id = 8455 AND home_goal > away_goal THEN 1\n",
    "            WHEN hometeam_id = 8455 AND home_goal < away_goal THEN 0\n",
    "        END), 2) AS pct_homewins,\n",
    "    ROUND(AVG(\n",
    "        CASE\n",
    "            WHEN awayteam_id = 8455 AND home_goal < away_goal THEN 1\n",
    "            WHEN awayteam_id = 8455 AND home_goal > away_goal THEN 0\n",
    "        END), 2) AS pct_awaywins\n",
    "FROM matches\n",
    "GROUP BY season"
   ]
  }
 ],
 "metadata": {
  "kernelspec": {
   "display_name": ".venv",
   "language": "python",
   "name": "python3"
  },
  "language_info": {
   "codemirror_mode": {
    "name": "ipython",
    "version": 3
   },
   "file_extension": ".py",
   "mimetype": "text/x-python",
   "name": "python",
   "nbconvert_exporter": "python",
   "pygments_lexer": "ipython3",
   "version": "3.11.5"
  }
 },
 "nbformat": 4,
 "nbformat_minor": 2
}
