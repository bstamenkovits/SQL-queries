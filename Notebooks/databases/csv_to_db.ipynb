{
 "cells": [
  {
   "cell_type": "markdown",
   "metadata": {},
   "source": [
    "# CSV to Database"
   ]
  },
  {
   "cell_type": "markdown",
   "metadata": {},
   "source": [
    "This is a short notebook that converts a folder of csv files into a sqlite database containing tables with the same names as the csv files. \n",
    "\n",
    "The file structure should be as follows \n",
    "\n",
    "```\n",
    "csv_to_db.ipynb\n",
    "csv_files/\n",
    "│\n",
    "├── database1/\n",
    "│   ├── table1.csv\n",
    "│   ├── table2.csv\n",
    "│   └── table3.csv\n",
    "│\n",
    "├── database2/\n",
    "│   ├── table1.csv\n",
    "│   ├── table2.csv\n",
    "│   └── table3.csv\n",
    "|\n",
    "```"
   ]
  },
  {
   "cell_type": "markdown",
   "metadata": {},
   "source": [
    "The only input required is the database name, which will select the relevant data folder in the `csv_files` directory. The name of the folder will be the name of the database, and the name of the csv files will be the table names, so make sure they are named correctly. "
   ]
  },
  {
   "cell_type": "code",
   "execution_count": 1,
   "metadata": {},
   "outputs": [],
   "source": [
    "db_name = 'world'"
   ]
  },
  {
   "cell_type": "code",
   "execution_count": 2,
   "metadata": {},
   "outputs": [
    {
     "data": {
      "text/plain": [
       "CompletedProcess(args=['sqlite3', 'world.db', '.mode csv', '.import ./downloads/world/presidents.csv presidents', '.import ./downloads/world/economies.csv economies', '.import ./downloads/world/economies2010.csv economies2010', '.import ./downloads/world/economies2015.csv economies2015', '.import ./downloads/world/countries.csv countries', '.import ./downloads/world/prime_minister_terms.csv prime_minister_terms', '.import ./downloads/world/prime_ministers.csv prime_ministers', '.import ./downloads/world/monarchs.csv monarchs', '.import ./downloads/world/cities.csv cities', '.import ./downloads/world/countries_plus.csv countries_plus', '.import ./downloads/world/populations.csv populations', '.import ./downloads/world/economies2019.csv economies2019', '.import ./downloads/world/eu_countries.csv eu_countries', '.import ./downloads/world/languages.csv languages', '.import ./downloads/world/states.csv states', '.import ./downloads/world/currencies.csv currencies'], returncode=0)"
      ]
     },
     "execution_count": 2,
     "metadata": {},
     "output_type": "execute_result"
    }
   ],
   "source": [
    "import subprocess\n",
    "import os\n",
    "\n",
    "db_path = f'{db_name}.db'\n",
    "csv_directory_path = f'./downloads/{db_name}'\n",
    "\n",
    "commands =  ['sqlite3', db_path, f'.mode csv']\n",
    "for csv_file in os.listdir(csv_directory_path):\n",
    "    table_name = csv_file.split('.')[0]\n",
    "    csv_file_path = f\"{csv_directory_path}/{csv_file}\"\n",
    "    \n",
    "    commands.append(f'.import {csv_file_path} {table_name}')\n",
    "\n",
    "subprocess.run(commands)"
   ]
  },
  {
   "cell_type": "markdown",
   "metadata": {},
   "source": [
    "Check if the tables have been added correctly"
   ]
  },
  {
   "cell_type": "code",
   "execution_count": 3,
   "metadata": {},
   "outputs": [],
   "source": [
    "connection_string = f'sqlite:///{db_name}.db'\n",
    "\n",
    "%load_ext sql\n",
    "%sql $connection_string"
   ]
  },
  {
   "cell_type": "code",
   "execution_count": 4,
   "metadata": {
    "vscode": {
     "languageId": "sql"
    }
   },
   "outputs": [
    {
     "name": "stdout",
     "output_type": "stream",
     "text": [
      " * sqlite:///world.db\n",
      "Done.\n"
     ]
    },
    {
     "data": {
      "text/html": [
       "<table>\n",
       "    <thead>\n",
       "        <tr>\n",
       "            <th>name</th>\n",
       "        </tr>\n",
       "    </thead>\n",
       "    <tbody>\n",
       "        <tr>\n",
       "            <td>presidents</td>\n",
       "        </tr>\n",
       "        <tr>\n",
       "            <td>economies</td>\n",
       "        </tr>\n",
       "        <tr>\n",
       "            <td>economies2010</td>\n",
       "        </tr>\n",
       "        <tr>\n",
       "            <td>economies2015</td>\n",
       "        </tr>\n",
       "        <tr>\n",
       "            <td>countries</td>\n",
       "        </tr>\n",
       "        <tr>\n",
       "            <td>prime_minister_terms</td>\n",
       "        </tr>\n",
       "        <tr>\n",
       "            <td>prime_ministers</td>\n",
       "        </tr>\n",
       "        <tr>\n",
       "            <td>monarchs</td>\n",
       "        </tr>\n",
       "        <tr>\n",
       "            <td>cities</td>\n",
       "        </tr>\n",
       "        <tr>\n",
       "            <td>countries_plus</td>\n",
       "        </tr>\n",
       "        <tr>\n",
       "            <td>populations</td>\n",
       "        </tr>\n",
       "        <tr>\n",
       "            <td>economies2019</td>\n",
       "        </tr>\n",
       "        <tr>\n",
       "            <td>eu_countries</td>\n",
       "        </tr>\n",
       "        <tr>\n",
       "            <td>languages</td>\n",
       "        </tr>\n",
       "        <tr>\n",
       "            <td>states</td>\n",
       "        </tr>\n",
       "        <tr>\n",
       "            <td>currencies</td>\n",
       "        </tr>\n",
       "    </tbody>\n",
       "</table>"
      ],
      "text/plain": [
       "[('presidents',),\n",
       " ('economies',),\n",
       " ('economies2010',),\n",
       " ('economies2015',),\n",
       " ('countries',),\n",
       " ('prime_minister_terms',),\n",
       " ('prime_ministers',),\n",
       " ('monarchs',),\n",
       " ('cities',),\n",
       " ('countries_plus',),\n",
       " ('populations',),\n",
       " ('economies2019',),\n",
       " ('eu_countries',),\n",
       " ('languages',),\n",
       " ('states',),\n",
       " ('currencies',)]"
      ]
     },
     "execution_count": 4,
     "metadata": {},
     "output_type": "execute_result"
    }
   ],
   "source": [
    "%%sql\n",
    "\n",
    "SELECT name FROM sqlite_master WHERE TYPE = 'table'"
   ]
  },
  {
   "cell_type": "code",
   "execution_count": null,
   "metadata": {},
   "outputs": [],
   "source": []
  }
 ],
 "metadata": {
  "kernelspec": {
   "display_name": ".venv",
   "language": "python",
   "name": "python3"
  },
  "language_info": {
   "codemirror_mode": {
    "name": "ipython",
    "version": 3
   },
   "file_extension": ".py",
   "mimetype": "text/x-python",
   "name": "python",
   "nbconvert_exporter": "python",
   "pygments_lexer": "ipython3",
   "version": "3.11.5"
  }
 },
 "nbformat": 4,
 "nbformat_minor": 2
}
