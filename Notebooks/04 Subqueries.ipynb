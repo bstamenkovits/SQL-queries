{
 "cells": [
  {
   "cell_type": "markdown",
   "metadata": {},
   "source": [
    "# **Subqueries**"
   ]
  },
  {
   "cell_type": "markdown",
   "metadata": {},
   "source": [
    "A **subquery** is a query **nested** inside of another query, the advantage of doing this is that it allows\n",
    "- *Comparing* grouped data to summarized values\n",
    "- *Reshaping* of data\n",
    "- *Combining* of data where a join or set operation is not possible"
   ]
  },
  {
   "cell_type": "code",
   "execution_count": 1,
   "metadata": {
    "vscode": {
     "languageId": "sql"
    }
   },
   "outputs": [],
   "source": [
    "%load_ext sql\n",
    "%sql sqlite:///databases/world.db"
   ]
  },
  {
   "cell_type": "markdown",
   "metadata": {},
   "source": [
    "## Subqueries Inside `SELECT`"
   ]
  },
  {
   "cell_type": "markdown",
   "metadata": {},
   "source": [
    "If a query returns a single column, then that column can be used in a new table."
   ]
  },
  {
   "cell_type": "code",
   "execution_count": 19,
   "metadata": {
    "vscode": {
     "languageId": "sql"
    }
   },
   "outputs": [
    {
     "name": "stdout",
     "output_type": "stream",
     "text": [
      " * sqlite:///databases/world.db\n",
      "Done.\n"
     ]
    },
    {
     "data": {
      "text/html": [
       "<table>\n",
       "    <thead>\n",
       "        <tr>\n",
       "            <th>continent</th>\n",
       "            <th>monarch_count</th>\n",
       "        </tr>\n",
       "    </thead>\n",
       "    <tbody>\n",
       "        <tr>\n",
       "            <td>Asia</td>\n",
       "            <td>2</td>\n",
       "        </tr>\n",
       "        <tr>\n",
       "            <td>Europe</td>\n",
       "            <td>2</td>\n",
       "        </tr>\n",
       "        <tr>\n",
       "            <td>Oceania</td>\n",
       "            <td>0</td>\n",
       "        </tr>\n",
       "        <tr>\n",
       "            <td>South America</td>\n",
       "            <td>0</td>\n",
       "        </tr>\n",
       "        <tr>\n",
       "            <td>Africa</td>\n",
       "            <td>0</td>\n",
       "        </tr>\n",
       "    </tbody>\n",
       "</table>"
      ],
      "text/plain": [
       "[('Asia', 2),\n",
       " ('Europe', 2),\n",
       " ('Oceania', 0),\n",
       " ('South America', 0),\n",
       " ('Africa', 0)]"
      ]
     },
     "execution_count": 19,
     "metadata": {},
     "output_type": "execute_result"
    }
   ],
   "source": [
    "%%sql\n",
    "SELECT \n",
    "    DISTINCT continent, \n",
    "    (\n",
    "        SELECT COUNT(*)\n",
    "        FROM monarchs\n",
    "        WHERE states.continent = monarchs.continent\n",
    "    ) AS monarch_count\n",
    "FROM states\n",
    "ORDER BY monarch_count DESC\n",
    "LIMIT(5)"
   ]
  },
  {
   "cell_type": "markdown",
   "metadata": {},
   "source": [
    "Things to keep in mind\n",
    "- Return a single value (to be compared with each row value of the main table)\n",
    "- Preferably apply the same filter to  the main and sub query \n"
   ]
  },
  {
   "cell_type": "code",
   "execution_count": 20,
   "metadata": {
    "vscode": {
     "languageId": "sql"
    }
   },
   "outputs": [],
   "source": [
    "%sql sqlite:///databases/football.db"
   ]
  },
  {
   "cell_type": "code",
   "execution_count": 26,
   "metadata": {
    "vscode": {
     "languageId": "sql"
    }
   },
   "outputs": [
    {
     "name": "stdout",
     "output_type": "stream",
     "text": [
      " * sqlite:///databases/football.db\n",
      "   sqlite:///databases/world.db\n",
      "Done.\n"
     ]
    },
    {
     "data": {
      "text/html": [
       "<table>\n",
       "    <thead>\n",
       "        <tr>\n",
       "            <th>date</th>\n",
       "            <th>goals</th>\n",
       "            <th>diff</th>\n",
       "        </tr>\n",
       "    </thead>\n",
       "    <tbody>\n",
       "        <tr>\n",
       "            <td>2011-07-29T00:00:00.000</td>\n",
       "            <td>3</td>\n",
       "            <td>0.28</td>\n",
       "        </tr>\n",
       "        <tr>\n",
       "            <td>2011-07-30T00:00:00.000</td>\n",
       "            <td>2</td>\n",
       "            <td>-0.72</td>\n",
       "        </tr>\n",
       "        <tr>\n",
       "            <td>2011-07-30T00:00:00.000</td>\n",
       "            <td>4</td>\n",
       "            <td>1.28</td>\n",
       "        </tr>\n",
       "        <tr>\n",
       "            <td>2011-07-30T00:00:00.000</td>\n",
       "            <td>1</td>\n",
       "            <td>-1.72</td>\n",
       "        </tr>\n",
       "        <tr>\n",
       "            <td>2011-07-30T00:00:00.000</td>\n",
       "            <td>0</td>\n",
       "            <td>-2.72</td>\n",
       "        </tr>\n",
       "    </tbody>\n",
       "</table>"
      ],
      "text/plain": [
       "[('2011-07-29T00:00:00.000', 3, 0.28),\n",
       " ('2011-07-30T00:00:00.000', 2, -0.72),\n",
       " ('2011-07-30T00:00:00.000', 4, 1.28),\n",
       " ('2011-07-30T00:00:00.000', 1, -1.72),\n",
       " ('2011-07-30T00:00:00.000', 0, -2.72)]"
      ]
     },
     "execution_count": 26,
     "metadata": {},
     "output_type": "execute_result"
    }
   ],
   "source": [
    "%%sql \n",
    "SELECT \n",
    "    date,\n",
    "    (home_goal + away_goal) AS goals,\n",
    "    ROUND((home_goal + away_goal) - (\n",
    "        SELECT AVG(home_goal+away_goal) \n",
    "        FROM matches\n",
    "        WHERE season = \"2011/2012\"\n",
    "    ), 2) AS diff\n",
    "FROM matches\n",
    "WHERE season = \"2011/2012\"\n",
    "LIMIT(5)"
   ]
  },
  {
   "cell_type": "code",
   "execution_count": null,
   "metadata": {
    "vscode": {
     "languageId": "sql"
    }
   },
   "outputs": [],
   "source": []
  }
 ],
 "metadata": {
  "kernelspec": {
   "display_name": ".venv",
   "language": "python",
   "name": "python3"
  },
  "language_info": {
   "codemirror_mode": {
    "name": "ipython",
    "version": 3
   },
   "file_extension": ".py",
   "mimetype": "text/x-python",
   "name": "python",
   "nbconvert_exporter": "python",
   "pygments_lexer": "ipython3",
   "version": "3.11.5"
  }
 },
 "nbformat": 4,
 "nbformat_minor": 2
}
