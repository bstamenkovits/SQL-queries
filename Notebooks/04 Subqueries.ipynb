{
 "cells": [
  {
   "cell_type": "markdown",
   "metadata": {},
   "source": [
    "# **Subqueries**"
   ]
  },
  {
   "cell_type": "markdown",
   "metadata": {},
   "source": [
    "A **subquery** is a query **nested** inside of another query, the advantage of doing this is that it allows\n",
    "- *Comparing* grouped data to summarized values\n",
    "- *Reshaping* of data\n",
    "- *Combining* of data where a join or set operation is not possible"
   ]
  },
  {
   "cell_type": "code",
   "execution_count": 1,
   "metadata": {
    "vscode": {
     "languageId": "sql"
    }
   },
   "outputs": [],
   "source": [
    "%load_ext sql\n",
    "%sql sqlite:///databases/world.db"
   ]
  },
  {
   "cell_type": "markdown",
   "metadata": {},
   "source": [
    "## Subqueries Inside `SELECT`"
   ]
  },
  {
   "cell_type": "markdown",
   "metadata": {},
   "source": [
    "If a query returns a single column, then that column can be used in a new table."
   ]
  },
  {
   "cell_type": "code",
   "execution_count": 2,
   "metadata": {
    "vscode": {
     "languageId": "sql"
    }
   },
   "outputs": [
    {
     "name": "stdout",
     "output_type": "stream",
     "text": [
      " * sqlite:///databases/world.db\n",
      "Done.\n"
     ]
    },
    {
     "data": {
      "text/html": [
       "<table>\n",
       "    <thead>\n",
       "        <tr>\n",
       "            <th>continent</th>\n",
       "            <th>monarch_count</th>\n",
       "        </tr>\n",
       "    </thead>\n",
       "    <tbody>\n",
       "        <tr>\n",
       "            <td>Asia</td>\n",
       "            <td>2</td>\n",
       "        </tr>\n",
       "        <tr>\n",
       "            <td>Europe</td>\n",
       "            <td>2</td>\n",
       "        </tr>\n",
       "        <tr>\n",
       "            <td>Oceania</td>\n",
       "            <td>0</td>\n",
       "        </tr>\n",
       "        <tr>\n",
       "            <td>South America</td>\n",
       "            <td>0</td>\n",
       "        </tr>\n",
       "        <tr>\n",
       "            <td>Africa</td>\n",
       "            <td>0</td>\n",
       "        </tr>\n",
       "    </tbody>\n",
       "</table>"
      ],
      "text/plain": [
       "[('Asia', 2),\n",
       " ('Europe', 2),\n",
       " ('Oceania', 0),\n",
       " ('South America', 0),\n",
       " ('Africa', 0)]"
      ]
     },
     "execution_count": 2,
     "metadata": {},
     "output_type": "execute_result"
    }
   ],
   "source": [
    "%%sql\n",
    "SELECT \n",
    "    DISTINCT continent, \n",
    "    (\n",
    "        SELECT COUNT(*)\n",
    "        FROM monarchs\n",
    "        WHERE states.continent = monarchs.continent\n",
    "    ) AS monarch_count\n",
    "FROM states\n",
    "ORDER BY monarch_count DESC\n",
    "LIMIT(5)"
   ]
  },
  {
   "cell_type": "markdown",
   "metadata": {},
   "source": [
    "Things to keep in mind\n",
    "- Return a single value (to be compared with each row value of the main table)\n",
    "- Preferably apply the same filter to  the main and sub query \n"
   ]
  },
  {
   "cell_type": "code",
   "execution_count": 3,
   "metadata": {
    "vscode": {
     "languageId": "sql"
    }
   },
   "outputs": [],
   "source": [
    "%sql sqlite:///databases/football.db"
   ]
  },
  {
   "cell_type": "code",
   "execution_count": 4,
   "metadata": {
    "vscode": {
     "languageId": "sql"
    }
   },
   "outputs": [
    {
     "name": "stdout",
     "output_type": "stream",
     "text": [
      " * sqlite:///databases/football.db\n",
      "   sqlite:///databases/world.db\n",
      "Done.\n"
     ]
    },
    {
     "data": {
      "text/html": [
       "<table>\n",
       "    <thead>\n",
       "        <tr>\n",
       "            <th>date</th>\n",
       "            <th>goals</th>\n",
       "            <th>diff</th>\n",
       "        </tr>\n",
       "    </thead>\n",
       "    <tbody>\n",
       "        <tr>\n",
       "            <td>2011-07-29T00:00:00.000</td>\n",
       "            <td>3</td>\n",
       "            <td>0.28</td>\n",
       "        </tr>\n",
       "        <tr>\n",
       "            <td>2011-07-30T00:00:00.000</td>\n",
       "            <td>2</td>\n",
       "            <td>-0.72</td>\n",
       "        </tr>\n",
       "        <tr>\n",
       "            <td>2011-07-30T00:00:00.000</td>\n",
       "            <td>4</td>\n",
       "            <td>1.28</td>\n",
       "        </tr>\n",
       "        <tr>\n",
       "            <td>2011-07-30T00:00:00.000</td>\n",
       "            <td>1</td>\n",
       "            <td>-1.72</td>\n",
       "        </tr>\n",
       "        <tr>\n",
       "            <td>2011-07-30T00:00:00.000</td>\n",
       "            <td>0</td>\n",
       "            <td>-2.72</td>\n",
       "        </tr>\n",
       "    </tbody>\n",
       "</table>"
      ],
      "text/plain": [
       "[('2011-07-29T00:00:00.000', 3, 0.28),\n",
       " ('2011-07-30T00:00:00.000', 2, -0.72),\n",
       " ('2011-07-30T00:00:00.000', 4, 1.28),\n",
       " ('2011-07-30T00:00:00.000', 1, -1.72),\n",
       " ('2011-07-30T00:00:00.000', 0, -2.72)]"
      ]
     },
     "execution_count": 4,
     "metadata": {},
     "output_type": "execute_result"
    }
   ],
   "source": [
    "%%sql \n",
    "SELECT \n",
    "    date,\n",
    "    (home_goal + away_goal) AS goals,\n",
    "    ROUND((home_goal + away_goal) - (\n",
    "        SELECT AVG(home_goal+away_goal) \n",
    "        FROM matches\n",
    "        WHERE season = \"2011/2012\"\n",
    "    ), 2) AS diff\n",
    "FROM matches\n",
    "WHERE season = \"2011/2012\"\n",
    "LIMIT(5)"
   ]
  },
  {
   "cell_type": "markdown",
   "metadata": {},
   "source": [
    "## Subqueries Inside `FROM`"
   ]
  },
  {
   "cell_type": "markdown",
   "metadata": {},
   "source": [
    "By including multiple tables in the `FROM` operator, the same effect as an `INNER JOIN` can be achieved. In practice the `INNER JOIN` operator is preferred due to its clarity and simply because of convention. "
   ]
  },
  {
   "cell_type": "code",
   "execution_count": 5,
   "metadata": {
    "vscode": {
     "languageId": "sql"
    }
   },
   "outputs": [],
   "source": [
    "%sql sqlite:///databases/world.db"
   ]
  },
  {
   "cell_type": "code",
   "execution_count": 6,
   "metadata": {
    "vscode": {
     "languageId": "sql"
    }
   },
   "outputs": [
    {
     "name": "stdout",
     "output_type": "stream",
     "text": [
      "   sqlite:///databases/football.db\n",
      " * sqlite:///databases/world.db\n",
      "Done.\n",
      "Done.\n"
     ]
    },
    {
     "data": {
      "text/html": [
       "<table>\n",
       "    <thead>\n",
       "        <tr>\n",
       "            <th>country</th>\n",
       "            <th>continent</th>\n",
       "            <th>prime_minister</th>\n",
       "            <th>president</th>\n",
       "        </tr>\n",
       "    </thead>\n",
       "    <tbody>\n",
       "        <tr>\n",
       "            <td>Egypt</td>\n",
       "            <td>Africa</td>\n",
       "            <td>Sherif Ismail</td>\n",
       "            <td>Abdel Fattah el-Sisi</td>\n",
       "        </tr>\n",
       "        <tr>\n",
       "            <td>Portugal</td>\n",
       "            <td>Europe</td>\n",
       "            <td>Antonio Costa</td>\n",
       "            <td>Marcelo Rebelo de Sousa</td>\n",
       "        </tr>\n",
       "        <tr>\n",
       "            <td>Vietnam</td>\n",
       "            <td>Asia</td>\n",
       "            <td>Nguyen Xuan Phuc</td>\n",
       "            <td>Tran Dai Quang</td>\n",
       "        </tr>\n",
       "        <tr>\n",
       "            <td>Haiti</td>\n",
       "            <td>North America</td>\n",
       "            <td>Jack Guy Lafontant</td>\n",
       "            <td>Jovenel Moise</td>\n",
       "        </tr>\n",
       "    </tbody>\n",
       "</table>"
      ],
      "text/plain": [
       "[('Egypt', 'Africa', 'Sherif Ismail', 'Abdel Fattah el-Sisi'),\n",
       " ('Portugal', 'Europe', 'Antonio Costa', 'Marcelo Rebelo de Sousa'),\n",
       " ('Vietnam', 'Asia', 'Nguyen Xuan Phuc', 'Tran Dai Quang'),\n",
       " ('Haiti', 'North America', 'Jack Guy Lafontant', 'Jovenel Moise')]"
      ]
     },
     "execution_count": 6,
     "metadata": {},
     "output_type": "execute_result"
    }
   ],
   "source": [
    "%%sql \n",
    "\n",
    "SELECT pm.country, pm.continent, pm.prime_minister, p.president \n",
    "FROM prime_ministers AS pm \n",
    "INNER JOIN presidents AS p ON pm.country = p.country\n",
    "LIMIT(5);\n",
    "\n",
    "-- is equivalent to --\n",
    "\n",
    "SELECT pm.country, pm.continent, pm.prime_minister, p.president \n",
    "FROM \n",
    "    prime_ministers AS pm, \n",
    "    presidents AS p \n",
    "WHERE pm.country = p.country\n",
    "LIMIT(5);"
   ]
  },
  {
   "cell_type": "markdown",
   "metadata": {},
   "source": [
    "Instead of using tables in the `FROM` operation, a subquery can be used. In the example below the  `DISTINCT` operator can be used in order to remove the duplicate values, making the operation equivalent to the `INTERSECT` operator instead of an `INNER JOIN`. "
   ]
  },
  {
   "cell_type": "code",
   "execution_count": 7,
   "metadata": {
    "vscode": {
     "languageId": "sql"
    }
   },
   "outputs": [
    {
     "name": "stdout",
     "output_type": "stream",
     "text": [
      "   sqlite:///databases/football.db\n",
      " * sqlite:///databases/world.db\n",
      "Done.\n"
     ]
    },
    {
     "data": {
      "text/html": [
       "<table>\n",
       "    <thead>\n",
       "        <tr>\n",
       "            <th>continent</th>\n",
       "            <th>most_recent</th>\n",
       "        </tr>\n",
       "    </thead>\n",
       "    <tbody>\n",
       "        <tr>\n",
       "            <td>Africa</td>\n",
       "            <td>1922</td>\n",
       "        </tr>\n",
       "        <tr>\n",
       "            <td>Asia</td>\n",
       "            <td>1984</td>\n",
       "        </tr>\n",
       "        <tr>\n",
       "            <td>Europe</td>\n",
       "            <td>1905</td>\n",
       "        </tr>\n",
       "        <tr>\n",
       "            <td>North America</td>\n",
       "            <td>1804</td>\n",
       "        </tr>\n",
       "        <tr>\n",
       "            <td>Oceania</td>\n",
       "            <td>1901</td>\n",
       "        </tr>\n",
       "        <tr>\n",
       "            <td>South America</td>\n",
       "            <td>1828</td>\n",
       "        </tr>\n",
       "    </tbody>\n",
       "</table>"
      ],
      "text/plain": [
       "[('Africa', '1922'),\n",
       " ('Asia', '1984'),\n",
       " ('Europe', '1905'),\n",
       " ('North America', '1804'),\n",
       " ('Oceania', '1901'),\n",
       " ('South America', '1828')]"
      ]
     },
     "execution_count": 7,
     "metadata": {},
     "output_type": "execute_result"
    }
   ],
   "source": [
    "%%sql \n",
    "SELECT continent, MAX(indep_year) AS most_recent\n",
    "FROM states\n",
    "GROUP BY continent"
   ]
  },
  {
   "cell_type": "code",
   "execution_count": 8,
   "metadata": {
    "vscode": {
     "languageId": "sql"
    }
   },
   "outputs": [
    {
     "name": "stdout",
     "output_type": "stream",
     "text": [
      "   sqlite:///databases/football.db\n",
      " * sqlite:///databases/world.db\n",
      "Done.\n"
     ]
    },
    {
     "data": {
      "text/html": [
       "<table>\n",
       "    <thead>\n",
       "        <tr>\n",
       "            <th>continent</th>\n",
       "            <th>most_recent</th>\n",
       "        </tr>\n",
       "    </thead>\n",
       "    <tbody>\n",
       "        <tr>\n",
       "            <td>Asia</td>\n",
       "            <td>1984</td>\n",
       "        </tr>\n",
       "        <tr>\n",
       "            <td>Europe</td>\n",
       "            <td>1905</td>\n",
       "        </tr>\n",
       "    </tbody>\n",
       "</table>"
      ],
      "text/plain": [
       "[('Asia', '1984'), ('Europe', '1905')]"
      ]
     },
     "execution_count": 8,
     "metadata": {},
     "output_type": "execute_result"
    }
   ],
   "source": [
    "%%sql \n",
    "SELECT DISTINCT monarchs.continent, sub.most_recent\n",
    "FROM \n",
    "    monarchs, \n",
    "    (\n",
    "        SELECT continent, MAX(indep_year) AS most_recent\n",
    "        FROM states\n",
    "        GROUP BY continent\n",
    "    ) AS sub\n",
    "WHERE monarchs.continent = sub.continent\n",
    "ORDER BY monarchs.continent\n",
    "    "
   ]
  },
  {
   "cell_type": "markdown",
   "metadata": {},
   "source": [
    "## Subqueries Inside `WHERE`\n",
    "\n"
   ]
  },
  {
   "cell_type": "code",
   "execution_count": 9,
   "metadata": {
    "vscode": {
     "languageId": "sql"
    }
   },
   "outputs": [],
   "source": [
    "%sql sqlite:///databases/football.db"
   ]
  },
  {
   "cell_type": "markdown",
   "metadata": {},
   "source": [
    "The data can be filtered using `WHERE` based on a value calculated in a subquery. "
   ]
  },
  {
   "cell_type": "code",
   "execution_count": 10,
   "metadata": {
    "vscode": {
     "languageId": "sql"
    }
   },
   "outputs": [
    {
     "name": "stdout",
     "output_type": "stream",
     "text": [
      " * sqlite:///databases/football.db\n",
      "   sqlite:///databases/world.db\n",
      "Done.\n"
     ]
    },
    {
     "data": {
      "text/html": [
       "<table>\n",
       "    <thead>\n",
       "        <tr>\n",
       "            <th>date</th>\n",
       "            <th>hometeam_id</th>\n",
       "            <th>awayteam_id</th>\n",
       "            <th>home_goal</th>\n",
       "            <th>away_goal</th>\n",
       "        </tr>\n",
       "    </thead>\n",
       "    <tbody>\n",
       "        <tr>\n",
       "            <td>2012-07-28T00:00:00.000</td>\n",
       "            <td>9993</td>\n",
       "            <td>9994</td>\n",
       "            <td>2</td>\n",
       "            <td>4</td>\n",
       "        </tr>\n",
       "        <tr>\n",
       "            <td>2012-07-28T00:00:00.000</td>\n",
       "            <td>9998</td>\n",
       "            <td>1773</td>\n",
       "            <td>5</td>\n",
       "            <td>2</td>\n",
       "        </tr>\n",
       "        <tr>\n",
       "            <td>2012-07-28T00:00:00.000</td>\n",
       "            <td>8203</td>\n",
       "            <td>9986</td>\n",
       "            <td>4</td>\n",
       "            <td>2</td>\n",
       "        </tr>\n",
       "        <tr>\n",
       "            <td>2012-07-28T00:00:00.000</td>\n",
       "            <td>8342</td>\n",
       "            <td>8475</td>\n",
       "            <td>3</td>\n",
       "            <td>1</td>\n",
       "        </tr>\n",
       "        <tr>\n",
       "            <td>2012-07-29T00:00:00.000</td>\n",
       "            <td>9991</td>\n",
       "            <td>9989</td>\n",
       "            <td>2</td>\n",
       "            <td>0</td>\n",
       "        </tr>\n",
       "    </tbody>\n",
       "</table>"
      ],
      "text/plain": [
       "[('2012-07-28T00:00:00.000', '9993', '9994', '2', '4'),\n",
       " ('2012-07-28T00:00:00.000', '9998', '1773', '5', '2'),\n",
       " ('2012-07-28T00:00:00.000', '8203', '9986', '4', '2'),\n",
       " ('2012-07-28T00:00:00.000', '8342', '8475', '3', '1'),\n",
       " ('2012-07-29T00:00:00.000', '9991', '9989', '2', '0')]"
      ]
     },
     "execution_count": 10,
     "metadata": {},
     "output_type": "execute_result"
    }
   ],
   "source": [
    "%%sql\n",
    "\n",
    "SELECT \n",
    "    date,\n",
    "    hometeam_id,\n",
    "    awayteam_id,\n",
    "    home_goal,\n",
    "    away_goal\n",
    "FROM matches\n",
    "WHERE \n",
    "    season = '2012/2013'\n",
    "    AND home_goal > (SELECT AVG(home_goal) FROM matches)\n",
    "LIMIT(5)"
   ]
  },
  {
   "cell_type": "markdown",
   "metadata": {},
   "source": [
    "Or the data can be filtered using `WHERE` based on an entire column returned by in a subquery. "
   ]
  },
  {
   "cell_type": "code",
   "execution_count": 11,
   "metadata": {
    "vscode": {
     "languageId": "sql"
    }
   },
   "outputs": [
    {
     "name": "stdout",
     "output_type": "stream",
     "text": [
      " * sqlite:///databases/football.db\n",
      "   sqlite:///databases/world.db\n",
      "Done.\n"
     ]
    },
    {
     "data": {
      "text/html": [
       "<table>\n",
       "    <thead>\n",
       "        <tr>\n",
       "            <th>team_long_name</th>\n",
       "            <th>team_short_name</th>\n",
       "        </tr>\n",
       "    </thead>\n",
       "    <tbody>\n",
       "        <tr>\n",
       "            <td>Wisła Kraków</td>\n",
       "            <td>WIS</td>\n",
       "        </tr>\n",
       "        <tr>\n",
       "            <td>Polonia Bytom</td>\n",
       "            <td>GOR</td>\n",
       "        </tr>\n",
       "        <tr>\n",
       "            <td>Ruch Chorzów</td>\n",
       "            <td>CHO</td>\n",
       "        </tr>\n",
       "        <tr>\n",
       "            <td>Legia Warszawa</td>\n",
       "            <td>LEG</td>\n",
       "        </tr>\n",
       "        <tr>\n",
       "            <td>P. Warszawa</td>\n",
       "            <td>PWA</td>\n",
       "        </tr>\n",
       "    </tbody>\n",
       "</table>"
      ],
      "text/plain": [
       "[('Wisła Kraków', 'WIS'),\n",
       " ('Polonia Bytom', 'GOR'),\n",
       " ('Ruch Chorzów', 'CHO'),\n",
       " ('Legia Warszawa', 'LEG'),\n",
       " ('P. Warszawa', 'PWA')]"
      ]
     },
     "execution_count": 11,
     "metadata": {},
     "output_type": "execute_result"
    }
   ],
   "source": [
    "%%sql\n",
    "SELECT team_long_name, team_short_name\n",
    "FROM teams\n",
    "WHERE team_api_id IN (SELECT hometeam_id FROM matches WHERE country_id=15722)\n",
    "LIMIT(5)"
   ]
  },
  {
   "cell_type": "markdown",
   "metadata": {},
   "source": [
    "## Nested Subqueries"
   ]
  },
  {
   "cell_type": "markdown",
   "metadata": {},
   "source": [
    "As the name suggests, a **nested subquery** is a subquery within a subquery. In the example below a sqlite function `strftime`, this is equivalent to the `EXTRACT` method in PostgreSQL"
   ]
  },
  {
   "cell_type": "code",
   "execution_count": 12,
   "metadata": {
    "vscode": {
     "languageId": "sql"
    }
   },
   "outputs": [
    {
     "name": "stdout",
     "output_type": "stream",
     "text": [
      " * sqlite:///databases/football.db\n",
      "   sqlite:///databases/world.db\n",
      "Done.\n"
     ]
    },
    {
     "data": {
      "text/html": [
       "<table>\n",
       "    <thead>\n",
       "        <tr>\n",
       "            <th>month</th>\n",
       "            <th>total_goals</th>\n",
       "            <th>diff</th>\n",
       "        </tr>\n",
       "    </thead>\n",
       "    <tbody>\n",
       "        <tr>\n",
       "            <td>01</td>\n",
       "            <td>2744</td>\n",
       "            <td>-178.67</td>\n",
       "        </tr>\n",
       "        <tr>\n",
       "            <td>02</td>\n",
       "            <td>3711</td>\n",
       "            <td>788.33</td>\n",
       "        </tr>\n",
       "        <tr>\n",
       "            <td>03</td>\n",
       "            <td>3902</td>\n",
       "            <td>979.33</td>\n",
       "        </tr>\n",
       "        <tr>\n",
       "            <td>04</td>\n",
       "            <td>3978</td>\n",
       "            <td>1055.33</td>\n",
       "        </tr>\n",
       "        <tr>\n",
       "            <td>05</td>\n",
       "            <td>3003</td>\n",
       "            <td>80.33</td>\n",
       "        </tr>\n",
       "    </tbody>\n",
       "</table>"
      ],
      "text/plain": [
       "[('01', 2744, -178.67),\n",
       " ('02', 3711, 788.33),\n",
       " ('03', 3902, 979.33),\n",
       " ('04', 3978, 1055.33),\n",
       " ('05', 3003, 80.33)]"
      ]
     },
     "execution_count": 12,
     "metadata": {},
     "output_type": "execute_result"
    }
   ],
   "source": [
    "%%sql\n",
    "SELECT \n",
    "    strftime('%m', date) AS month,\n",
    "    SUM(m.home_goal + m.away_goal) AS total_goals,\n",
    "    ROUND(SUM(m.home_goal + m.away_goal) - (\n",
    "        SELECT AVG(goals)\n",
    "        FROM (\n",
    "            SELECT \n",
    "                strftime('%m', date) AS month,\n",
    "                SUM(home_goal + away_goal) AS goals\n",
    "            FROM matches\n",
    "            GROUP BY month\n",
    "        ) AS s\n",
    "    ), 2) AS diff\n",
    "FROM matches AS m\n",
    "GROUP BY month\n",
    "LIMIT(5)"
   ]
  },
  {
   "cell_type": "markdown",
   "metadata": {},
   "source": [
    "## Commont Table Expressions (CTE)"
   ]
  },
  {
   "cell_type": "markdown",
   "metadata": {},
   "source": [
    "As can be seen in the previous example, these subquerries can become very large and messy.  In order to improve **readability** of a query, simple subqueries can be factored out of the main query using a **Common Table Expression (CTE)**. \n",
    "\n",
    "It should be noted that the CTE only exists within the context of the current query, if you want other queries to reference your subquerry you are better off using a virtual table (`VIEW`)"
   ]
  },
  {
   "cell_type": "code",
   "execution_count": 13,
   "metadata": {
    "vscode": {
     "languageId": "sql"
    }
   },
   "outputs": [
    {
     "name": "stdout",
     "output_type": "stream",
     "text": [
      " * sqlite:///databases/football.db\n",
      "   sqlite:///databases/world.db\n",
      "Done.\n"
     ]
    },
    {
     "data": {
      "text/html": [
       "<table>\n",
       "    <thead>\n",
       "        <tr>\n",
       "            <th>month</th>\n",
       "            <th>total_goals</th>\n",
       "            <th>diff</th>\n",
       "        </tr>\n",
       "    </thead>\n",
       "    <tbody>\n",
       "        <tr>\n",
       "            <td>01</td>\n",
       "            <td>2744</td>\n",
       "            <td>-178.67</td>\n",
       "        </tr>\n",
       "        <tr>\n",
       "            <td>02</td>\n",
       "            <td>3711</td>\n",
       "            <td>788.33</td>\n",
       "        </tr>\n",
       "        <tr>\n",
       "            <td>03</td>\n",
       "            <td>3902</td>\n",
       "            <td>979.33</td>\n",
       "        </tr>\n",
       "        <tr>\n",
       "            <td>04</td>\n",
       "            <td>3978</td>\n",
       "            <td>1055.33</td>\n",
       "        </tr>\n",
       "        <tr>\n",
       "            <td>05</td>\n",
       "            <td>3003</td>\n",
       "            <td>80.33</td>\n",
       "        </tr>\n",
       "    </tbody>\n",
       "</table>"
      ],
      "text/plain": [
       "[('01', 2744, -178.67),\n",
       " ('02', 3711, 788.33),\n",
       " ('03', 3902, 979.33),\n",
       " ('04', 3978, 1055.33),\n",
       " ('05', 3003, 80.33)]"
      ]
     },
     "execution_count": 13,
     "metadata": {},
     "output_type": "execute_result"
    }
   ],
   "source": [
    "%%sql\n",
    "\n",
    "WITH s AS (\n",
    "    SELECT \n",
    "        strftime('%m', date) AS month,\n",
    "        SUM(home_goal + away_goal) AS goals\n",
    "    FROM matches\n",
    "    GROUP BY month\n",
    ")\n",
    "\n",
    "SELECT \n",
    "    strftime('%m', date) AS month,\n",
    "    SUM(m.home_goal + m.away_goal) AS total_goals,\n",
    "    ROUND(SUM(m.home_goal + m.away_goal) - (SELECT AVG(goals) FROM s), 2) AS diff\n",
    "FROM matches AS m\n",
    "GROUP BY month\n",
    "LIMIT(5);"
   ]
  },
  {
   "cell_type": "markdown",
   "metadata": {},
   "source": [
    "## Summary"
   ]
  },
  {
   "cell_type": "markdown",
   "metadata": {},
   "source": [
    "### Joining Data\n",
    "**Join Operation**\t\t\n",
    "- *Advantage*\tThis is the general/universal way of combining data from two tables\n",
    "- *Limitation*\tYou can’t join two separate columns in a table to a single column in another table\n",
    "\n",
    "**Correlated Subqueries**\n",
    "- *Advantage*\tAllows matching data from different columns (avoids limitation of join operation)\n",
    "- *Limitation*\tIt is computationally expensive"
   ]
  },
  {
   "cell_type": "markdown",
   "metadata": {},
   "source": [
    "### Multi-Step Querries\n",
    "\n",
    "**Nested Queries**  \n",
    "- *Advantage*:\tAllows computation in multiple steps\n",
    "- *Limitation*:\tReduced readability/organization\n",
    "\n",
    "**CTE’s**  \n",
    "- *Advantage*:\tIncreased readability/organization, allows computation in multiple steps\n",
    "- *Limitation*:\tMore bookkeeping when writing the code"
   ]
  }
 ],
 "metadata": {
  "kernelspec": {
   "display_name": ".venv",
   "language": "python",
   "name": "python3"
  },
  "language_info": {
   "codemirror_mode": {
    "name": "ipython",
    "version": 3
   },
   "file_extension": ".py",
   "mimetype": "text/x-python",
   "name": "python",
   "nbconvert_exporter": "python",
   "pygments_lexer": "ipython3",
   "version": "3.11.4"
  }
 },
 "nbformat": 4,
 "nbformat_minor": 2
}
