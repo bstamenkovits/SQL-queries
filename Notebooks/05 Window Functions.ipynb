{
 "cells": [
  {
   "cell_type": "markdown",
   "metadata": {},
   "source": [
    "# **Subqueries**"
   ]
  },
  {
   "cell_type": "markdown",
   "metadata": {},
   "source": [
    "A window function performs a set of calculations on an already genereated set of results (a window). The window can either be an entire data set of a small section of it. "
   ]
  },
  {
   "cell_type": "code",
   "execution_count": 1,
   "metadata": {
    "vscode": {
     "languageId": "sql"
    }
   },
   "outputs": [],
   "source": [
    "%load_ext sql\n",
    "%sql sqlite:///databases/football.db"
   ]
  },
  {
   "cell_type": "markdown",
   "metadata": {},
   "source": [
    "## `OVER()` Function"
   ]
  },
  {
   "cell_type": "markdown",
   "metadata": {},
   "source": [
    "The `Over` operation tells SQL to pass a calculated value over the entire data set. Not only is the syntax simpler and clearer, it's also faster in terms of processing time."
   ]
  },
  {
   "cell_type": "code",
   "execution_count": 2,
   "metadata": {
    "vscode": {
     "languageId": "sql"
    }
   },
   "outputs": [
    {
     "name": "stdout",
     "output_type": "stream",
     "text": [
      " * sqlite:///databases/football.db\n",
      "Done.\n",
      "Done.\n"
     ]
    },
    {
     "data": {
      "text/html": [
       "<table>\n",
       "    <thead>\n",
       "        <tr>\n",
       "            <th>date</th>\n",
       "            <th>goals</th>\n",
       "            <th>overall_avg</th>\n",
       "        </tr>\n",
       "    </thead>\n",
       "    <tbody>\n",
       "        <tr>\n",
       "            <td>2011-07-29T00:00:00.000</td>\n",
       "            <td>3</td>\n",
       "            <td>2.7164596273291925</td>\n",
       "        </tr>\n",
       "        <tr>\n",
       "            <td>2011-07-30T00:00:00.000</td>\n",
       "            <td>2</td>\n",
       "            <td>2.7164596273291925</td>\n",
       "        </tr>\n",
       "        <tr>\n",
       "            <td>2011-07-30T00:00:00.000</td>\n",
       "            <td>4</td>\n",
       "            <td>2.7164596273291925</td>\n",
       "        </tr>\n",
       "        <tr>\n",
       "            <td>2011-07-30T00:00:00.000</td>\n",
       "            <td>1</td>\n",
       "            <td>2.7164596273291925</td>\n",
       "        </tr>\n",
       "        <tr>\n",
       "            <td>2011-07-30T00:00:00.000</td>\n",
       "            <td>0</td>\n",
       "            <td>2.7164596273291925</td>\n",
       "        </tr>\n",
       "    </tbody>\n",
       "</table>"
      ],
      "text/plain": [
       "[('2011-07-29T00:00:00.000', 3, 2.7164596273291925),\n",
       " ('2011-07-30T00:00:00.000', 2, 2.7164596273291925),\n",
       " ('2011-07-30T00:00:00.000', 4, 2.7164596273291925),\n",
       " ('2011-07-30T00:00:00.000', 1, 2.7164596273291925),\n",
       " ('2011-07-30T00:00:00.000', 0, 2.7164596273291925)]"
      ]
     },
     "execution_count": 2,
     "metadata": {},
     "output_type": "execute_result"
    }
   ],
   "source": [
    "%%sql\n",
    "SELECT \n",
    "    date,\n",
    "    (home_goal + away_goal) AS goals,\n",
    "    (\n",
    "        SELECT AVG(home_goal + away_goal) \n",
    "        FROM matches\n",
    "        WHERE season = '2011/2012'\n",
    "    ) AS overall_avg\n",
    "FROM matches\n",
    "WHERE season = '2011/2012'\n",
    "LIMIT(5);\n",
    "\n",
    "-- is equivalent to --\n",
    "\n",
    "SELECT \n",
    "    date,\n",
    "    (home_goal + away_goal) AS goals,\n",
    "    AVG(home_goal + away_goal) OVER() AS overall_avg\n",
    "FROM matches\n",
    "WHERE season = '2011/2012'\n",
    "LIMIT(5)\n"
   ]
  },
  {
   "cell_type": "markdown",
   "metadata": {},
   "source": [
    "## `RANK()` Function"
   ]
  },
  {
   "cell_type": "markdown",
   "metadata": {},
   "source": [
    "The `Rank` operation assigns a rank (enumerates) to the table. For example in order to find the rank of the number of goals scored, the `ORDER BY` operation needs to be passed to the `OVER` function. \n",
    "\n",
    "It should be noted that incase of a tie the same rank is given to both rows, and the relevant ranks are skipped. For example if two rows tie for rank #1, then the first and second row will have rank #1, rank #2 is skipped, and the ranking continues at rank #3"
   ]
  },
  {
   "cell_type": "code",
   "execution_count": 3,
   "metadata": {
    "vscode": {
     "languageId": "sql"
    }
   },
   "outputs": [
    {
     "name": "stdout",
     "output_type": "stream",
     "text": [
      " * sqlite:///databases/football.db\n",
      "Done.\n"
     ]
    },
    {
     "data": {
      "text/html": [
       "<table>\n",
       "    <thead>\n",
       "        <tr>\n",
       "            <th>date</th>\n",
       "            <th>goals</th>\n",
       "            <th>goals_rank</th>\n",
       "        </tr>\n",
       "    </thead>\n",
       "    <tbody>\n",
       "        <tr>\n",
       "            <td>2011-08-28T00:00:00.000</td>\n",
       "            <td>10</td>\n",
       "            <td>1</td>\n",
       "        </tr>\n",
       "        <tr>\n",
       "            <td>2011-11-06T00:00:00.000</td>\n",
       "            <td>10</td>\n",
       "            <td>1</td>\n",
       "        </tr>\n",
       "        <tr>\n",
       "            <td>2011-10-29T00:00:00.000</td>\n",
       "            <td>9</td>\n",
       "            <td>3</td>\n",
       "        </tr>\n",
       "        <tr>\n",
       "            <td>2012-02-12T00:00:00.000</td>\n",
       "            <td>9</td>\n",
       "            <td>3</td>\n",
       "        </tr>\n",
       "        <tr>\n",
       "            <td>2012-03-09T00:00:00.000</td>\n",
       "            <td>9</td>\n",
       "            <td>3</td>\n",
       "        </tr>\n",
       "    </tbody>\n",
       "</table>"
      ],
      "text/plain": [
       "[('2011-08-28T00:00:00.000', 10, 1),\n",
       " ('2011-11-06T00:00:00.000', 10, 1),\n",
       " ('2011-10-29T00:00:00.000', 9, 3),\n",
       " ('2012-02-12T00:00:00.000', 9, 3),\n",
       " ('2012-03-09T00:00:00.000', 9, 3)]"
      ]
     },
     "execution_count": 3,
     "metadata": {},
     "output_type": "execute_result"
    }
   ],
   "source": [
    "%%sql\n",
    "SELECT\n",
    "    date,\n",
    "    (home_goal + away_goal) AS goals,\n",
    "    RANK() OVER(ORDER BY home_goal + away_goal DESC) AS goals_rank\n",
    "FROM matches\n",
    "WHERE season = '2011/2012'\n",
    "LIMIT(5)"
   ]
  },
  {
   "cell_type": "markdown",
   "metadata": {},
   "source": [
    "## `PARTITION BY` Operation"
   ]
  },
  {
   "cell_type": "markdown",
   "metadata": {},
   "source": [
    "The `PARTITION BY` operation allows different values to be calculated based on different categories in the same column. It is similar to a `GROUP BY` operation, except that in case of the `GROUP BY` operation the resulting aggreagate table needs to be joined onto the original table. \n",
    "\n",
    "<img src=\"images/partition_by.png\" width=\"800\"></img>"
   ]
  },
  {
   "cell_type": "code",
   "execution_count": 4,
   "metadata": {
    "vscode": {
     "languageId": "sql"
    }
   },
   "outputs": [
    {
     "name": "stdout",
     "output_type": "stream",
     "text": [
      " * sqlite:///databases/football.db\n",
      "(sqlite3.OperationalError) near \"SELECT\": syntax error\n",
      "[SQL: WITH seasonal_avg AS (\n",
      "    SELECT \n",
      "        season,\n",
      "        AVG(home_goal + away_goal) AS season_avg\n",
      "    FROM matches\n",
      "    GROUP BY season\n",
      ")\n",
      "SELECT \n",
      "    m.date,\n",
      "    (m.home_goal + m.away_goal) AS goals,\n",
      "    s.season_avg \n",
      "FROM matches AS m\n",
      "INNER JOIN seasonal_avg AS s ON m.season = s.season\n",
      "ORDER BY m.date\n",
      "LIMIT(5)\n",
      "\n",
      "-- is equivalent to --\n",
      "\n",
      "SELECT \n",
      "    date,\n",
      "    (home_goal + away_goal) AS goals,\n",
      "    AVG(home_goal + away_goal) OVER(PARTITION BY season) AS season_avg\n",
      "FROM matches\n",
      "ORDER BY date\n",
      "LIMIT(5)]\n",
      "(Background on this error at: https://sqlalche.me/e/20/e3q8)\n"
     ]
    }
   ],
   "source": [
    "%%sql\n",
    "WITH seasonal_avg AS (\n",
    "    SELECT \n",
    "        season,\n",
    "        AVG(home_goal + away_goal) AS season_avg\n",
    "    FROM matches\n",
    "    GROUP BY season\n",
    ")\n",
    "SELECT \n",
    "    m.date,\n",
    "    (m.home_goal + m.away_goal) AS goals,\n",
    "    s.season_avg \n",
    "FROM matches AS m\n",
    "INNER JOIN seasonal_avg AS s ON m.season = s.season\n",
    "ORDER BY m.date\n",
    "LIMIT(5)\n",
    "\n",
    "-- is equivalent to --\n",
    "\n",
    "SELECT \n",
    "    date,\n",
    "    (home_goal + away_goal) AS goals,\n",
    "    AVG(home_goal + away_goal) OVER(PARTITION BY season) AS season_avg\n",
    "FROM matches\n",
    "ORDER BY date\n",
    "LIMIT(5)"
   ]
  },
  {
   "cell_type": "markdown",
   "metadata": {},
   "source": [
    "The calculation can be done by creating a partition based on multiple columns simply by passing multiple columns to the `OVER` function. "
   ]
  },
  {
   "cell_type": "code",
   "execution_count": 5,
   "metadata": {
    "vscode": {
     "languageId": "sql"
    }
   },
   "outputs": [
    {
     "name": "stdout",
     "output_type": "stream",
     "text": [
      " * sqlite:///databases/football.db\n",
      "Done.\n"
     ]
    },
    {
     "data": {
      "text/html": [
       "<table>\n",
       "    <thead>\n",
       "        <tr>\n",
       "            <th>name</th>\n",
       "            <th>season</th>\n",
       "            <th>goals</th>\n",
       "            <th>season_country_avg</th>\n",
       "        </tr>\n",
       "    </thead>\n",
       "    <tbody>\n",
       "        <tr>\n",
       "            <td>Germany</td>\n",
       "            <td>2012/2013</td>\n",
       "            <td>7</td>\n",
       "            <td>2.93</td>\n",
       "        </tr>\n",
       "        <tr>\n",
       "            <td>France</td>\n",
       "            <td>2011/2012</td>\n",
       "            <td>2</td>\n",
       "            <td>2.52</td>\n",
       "        </tr>\n",
       "        <tr>\n",
       "            <td>Italy</td>\n",
       "            <td>2013/2014</td>\n",
       "            <td>3</td>\n",
       "            <td>2.72</td>\n",
       "        </tr>\n",
       "        <tr>\n",
       "            <td>Germany</td>\n",
       "            <td>2012/2013</td>\n",
       "            <td>0</td>\n",
       "            <td>2.93</td>\n",
       "        </tr>\n",
       "        <tr>\n",
       "            <td>Switzerland</td>\n",
       "            <td>2014/2015</td>\n",
       "            <td>4</td>\n",
       "            <td>2.87</td>\n",
       "        </tr>\n",
       "    </tbody>\n",
       "</table>"
      ],
      "text/plain": [
       "[('Germany', '2012/2013', 7, 2.93),\n",
       " ('France', '2011/2012', 2, 2.52),\n",
       " ('Italy', '2013/2014', 3, 2.72),\n",
       " ('Germany', '2012/2013', 0, 2.93),\n",
       " ('Switzerland', '2014/2015', 4, 2.87)]"
      ]
     },
     "execution_count": 5,
     "metadata": {},
     "output_type": "execute_result"
    }
   ],
   "source": [
    "%%sql\n",
    "SELECT \n",
    "    c.name,\n",
    "    m.season,\n",
    "    (m.home_goal + m.away_goal) AS goals,\n",
    "    (\n",
    "        ROUND(AVG(home_goal + away_goal) \n",
    "        OVER(PARTITION BY m.season, c.name), 2)   \n",
    "    ) AS season_country_avg\n",
    "FROM country AS c\n",
    "LEFT JOIN matches AS m ON c.id = m.country_id\n",
    "ORDER BY RANDOM()\n",
    "LIMIT(5)"
   ]
  },
  {
   "cell_type": "markdown",
   "metadata": {},
   "source": [
    "## Sliding Window"
   ]
  },
  {
   "cell_type": "markdown",
   "metadata": {},
   "source": [
    "A sliding window is a window function where the calculation is performed on a set of sequential rows. \n",
    "\n",
    "<img src=\"images/sliding_window.png\" width=\"800\"></img>\n",
    "\n",
    "The general syntax is as follows \n",
    "\n",
    "```\n",
    "ROWS BETWEEN <start> AND <finish>\n",
    "```\n",
    "\n",
    "Where `<start>` and `<finish>` are replaced by one of the following:\n",
    "- `CURRENT ROW` = current row\n",
    "- `PRECEDING` = number of rows before current row\n",
    "- `FOLLOWING` = number of rows after current row\n",
    "- `UNBOUNDED PRECEDING` = all rows from first row to current row\n",
    "- `UNBOUNDED FOLLOWING` = all rows from current row to last row\n"
   ]
  },
  {
   "cell_type": "code",
   "execution_count": 6,
   "metadata": {
    "vscode": {
     "languageId": "sql"
    }
   },
   "outputs": [
    {
     "name": "stdout",
     "output_type": "stream",
     "text": [
      " * sqlite:///databases/football.db\n",
      "Done.\n"
     ]
    },
    {
     "data": {
      "text/html": [
       "<table>\n",
       "    <thead>\n",
       "        <tr>\n",
       "            <th>date</th>\n",
       "            <th>home_goal</th>\n",
       "            <th>away_goal</th>\n",
       "            <th>running_total</th>\n",
       "        </tr>\n",
       "    </thead>\n",
       "    <tbody>\n",
       "        <tr>\n",
       "            <td>2011-08-15T00:00:00.000</td>\n",
       "            <td>4</td>\n",
       "            <td>0</td>\n",
       "            <td>4</td>\n",
       "        </tr>\n",
       "        <tr>\n",
       "            <td>2011-09-10T00:00:00.000</td>\n",
       "            <td>3</td>\n",
       "            <td>0</td>\n",
       "            <td>7</td>\n",
       "        </tr>\n",
       "        <tr>\n",
       "            <td>2011-09-24T00:00:00.000</td>\n",
       "            <td>2</td>\n",
       "            <td>0</td>\n",
       "            <td>9</td>\n",
       "        </tr>\n",
       "        <tr>\n",
       "            <td>2011-10-15T00:00:00.000</td>\n",
       "            <td>4</td>\n",
       "            <td>1</td>\n",
       "            <td>13</td>\n",
       "        </tr>\n",
       "        <tr>\n",
       "            <td>2011-10-29T00:00:00.000</td>\n",
       "            <td>3</td>\n",
       "            <td>1</td>\n",
       "            <td>16</td>\n",
       "        </tr>\n",
       "    </tbody>\n",
       "</table>"
      ],
      "text/plain": [
       "[('2011-08-15T00:00:00.000', '4', '0', 4),\n",
       " ('2011-09-10T00:00:00.000', '3', '0', 7),\n",
       " ('2011-09-24T00:00:00.000', '2', '0', 9),\n",
       " ('2011-10-15T00:00:00.000', '4', '1', 13),\n",
       " ('2011-10-29T00:00:00.000', '3', '1', 16)]"
      ]
     },
     "execution_count": 6,
     "metadata": {},
     "output_type": "execute_result"
    }
   ],
   "source": [
    "%%sql\n",
    "SELECT  \n",
    "    date,\n",
    "    home_goal,\n",
    "    away_goal,\n",
    "    SUM(home_goal) OVER(\n",
    "        ORDER BY date ROWS BETWEEN UNBOUNDED PRECEDING AND CURRENT ROW\n",
    "    ) AS running_total\n",
    "FROM matches\n",
    "WHERE hometeam_id=8456 AND season = '2011/2012'\n",
    "LIMIT(5)"
   ]
  }
 ],
 "metadata": {
  "kernelspec": {
   "display_name": ".venv",
   "language": "python",
   "name": "python3"
  },
  "language_info": {
   "codemirror_mode": {
    "name": "ipython",
    "version": 3
   },
   "file_extension": ".py",
   "mimetype": "text/x-python",
   "name": "python",
   "nbconvert_exporter": "python",
   "pygments_lexer": "ipython3",
   "version": "3.11.4"
  }
 },
 "nbformat": 4,
 "nbformat_minor": 2
}
