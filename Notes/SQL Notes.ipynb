{
 "cells": [
  {
   "cell_type": "markdown",
   "metadata": {},
   "source": [
    "# **SQL Notes**"
   ]
  },
  {
   "cell_type": "markdown",
   "metadata": {},
   "source": [
    "## General \n",
    "\n",
    "### Order of Execution\n",
    "SQL code is not processed in the order that it is written, the actual order of execution of the operations is:\n",
    "<!-- |Operation |Description |\n",
    "|--|--|\n",
    "| `FROM` \t\t|first SQL will access the table from which data should be grabbed|\n",
    "| `JOIN` \t\t|then SQL will access other tables that are joined with the initial table|\n",
    "| `WHERE` \t\t|then SQL will apply a filter on the data in the (joined) table|\n",
    "| `GROUP BY` \t|next SQL will group the data in the (joined) table if applicable|\n",
    "| `HAVING` \t|then SQL will apply a filter on the grouped data in the (joined) table|\n",
    "| [...]\t\t|Window Functions|\n",
    "| `SELECT` \t|then SQL will look at which columns from the table the user has requested|\n",
    "| `DISTINCT`\t |the select operation will return a column, from which the unique values can be extracted|\n",
    "| `UNION`\t\t|then SQL can combine the resulting columns with other tables using set operations|\n",
    "| `ORDER BY` \t|then SQL will sort the values in the resulting table|\n",
    "| `OFFSET`\t\t|then SQL will ignore a set of values in the resulting table|\n",
    "| `LIMIT / TOP` \t|finally SQL will output part of the table| -->\n",
    "\n",
    "- `FROM` \t\tfirst SQL will access the table from which data should be grabbed\n",
    "- `JOIN` \t\tthen SQL will access other tables that are joined with the initial table\n",
    "- `WHERE` \t\tthen SQL will apply a filter on the data in the (joined) table\n",
    "- `GROUP BY` \tnext SQL will group the data in the (joined) table if applicable\n",
    "- `HAVING` \tthen SQL will apply a filter on the grouped data in the (joined) table\n",
    "- [...]\t\tWindow Functions\n",
    "- `SELECT` \tthen SQL will look at which columns from the table the user has requested\n",
    "- `DISTINCT`\t the select operation will return a column, from which the unique values can be extracted\n",
    "- `UNION`\t\tthen SQL can combine the resulting columns with other tables using set operations\n",
    "- `ORDER BY` \tthen SQL will sort the values in the resulting table\n",
    "- `OFFSET`\t\tthen SQL will ignore a set of values in the resulting table\n",
    "- `LIMIT / TOP` \tfinally SQL will output part of the table\n",
    "\n",
    "\n",
    "<!-- <table>\n",
    "    <tr>\n",
    "        <th>Operation</th>\n",
    "        <th>Description</th>\n",
    "    </tr>\n",
    "    <tr>\n",
    "        <td>`FROM`</td>\n",
    "        <td>first SQL will access the table from which data should be grabbed</td>\n",
    "    </tr>\n",
    "    <tr>\n",
    "        <td>row 2, cell 1</td>\n",
    "        <td>row 2, cell 2</td>\n",
    "    </tr>\n",
    "</table> -->"
   ]
  },
  {
   "cell_type": "markdown",
   "metadata": {},
   "source": [
    "## Filter Data"
   ]
  },
  {
   "cell_type": "code",
   "execution_count": 1,
   "metadata": {
    "vscode": {
     "languageId": "sql"
    }
   },
   "outputs": [],
   "source": [
    "%load_ext sql\n",
    "%sql sqlite:///cinema.db"
   ]
  },
  {
   "cell_type": "markdown",
   "metadata": {},
   "source": [
    "### Where - Numeric"
   ]
  },
  {
   "cell_type": "markdown",
   "metadata": {},
   "source": [
    "The `WHERE` statement can be used to filter numeric data through the following set of operators\n",
    "- `=`\tequals to\n",
    "- `>`\tgreater than\n",
    "- `<`\tless than\n",
    "- `>=`\tgreater than or equal to\n",
    "- `<=`\tless than or equal to\n",
    "- `<>`\tnot equal to"
   ]
  },
  {
   "cell_type": "code",
   "execution_count": 2,
   "metadata": {
    "vscode": {
     "languageId": "sql"
    }
   },
   "outputs": [
    {
     "name": "stdout",
     "output_type": "stream",
     "text": [
      " * sqlite:///cinema.db\n",
      "Done.\n"
     ]
    },
    {
     "data": {
      "text/html": [
       "<table>\n",
       "    <thead>\n",
       "        <tr>\n",
       "            <th>title</th>\n",
       "        </tr>\n",
       "    </thead>\n",
       "    <tbody>\n",
       "        <tr>\n",
       "            <td>Elmer Gantry</td>\n",
       "        </tr>\n",
       "        <tr>\n",
       "            <td>Psycho</td>\n",
       "        </tr>\n",
       "        <tr>\n",
       "            <td>The Apartment</td>\n",
       "        </tr>\n",
       "    </tbody>\n",
       "</table>"
      ],
      "text/plain": [
       "[('Elmer Gantry',), ('Psycho',), ('The Apartment',)]"
      ]
     },
     "execution_count": 2,
     "metadata": {},
     "output_type": "execute_result"
    }
   ],
   "source": [
    "%%sql\n",
    "SELECT title \n",
    "FROM films\n",
    "WHERE release_year = 1960"
   ]
  },
  {
   "cell_type": "markdown",
   "metadata": {},
   "source": [
    "The `BETWEEN` statement can be used to filter numeric data between two values (inclusive)"
   ]
  },
  {
   "cell_type": "code",
   "execution_count": 3,
   "metadata": {
    "vscode": {
     "languageId": "sql"
    }
   },
   "outputs": [
    {
     "name": "stdout",
     "output_type": "stream",
     "text": [
      " * sqlite:///cinema.db\n",
      "Done.\n"
     ]
    },
    {
     "data": {
      "text/html": [
       "<table>\n",
       "    <thead>\n",
       "        <tr>\n",
       "            <th>title</th>\n",
       "        </tr>\n",
       "    </thead>\n",
       "    <tbody>\n",
       "        <tr>\n",
       "            <td>3 Ninjas Kick Back</td>\n",
       "        </tr>\n",
       "        <tr>\n",
       "            <td>A Low Down Dirty Shame</td>\n",
       "        </tr>\n",
       "        <tr>\n",
       "            <td>Ace Ventura: Pet Detective</td>\n",
       "        </tr>\n",
       "        <tr>\n",
       "            <td>Baby&#x27;s Day Out</td>\n",
       "        </tr>\n",
       "        <tr>\n",
       "            <td>Beverly Hills Cop III</td>\n",
       "        </tr>\n",
       "    </tbody>\n",
       "</table>"
      ],
      "text/plain": [
       "[('3 Ninjas Kick Back',),\n",
       " ('A Low Down Dirty Shame',),\n",
       " ('Ace Ventura: Pet Detective',),\n",
       " (\"Baby's Day Out\",),\n",
       " ('Beverly Hills Cop III',)]"
      ]
     },
     "execution_count": 3,
     "metadata": {},
     "output_type": "execute_result"
    }
   ],
   "source": [
    "%%sql \n",
    "SELECT title\n",
    "FROM films\n",
    "WHERE release_year BETWEEN 1994 AND 2000\n",
    "LIMIT 5"
   ]
  },
  {
   "cell_type": "markdown",
   "metadata": {},
   "source": [
    "When performing a `WHERE` filter for multiple entries, the IN operator may be used"
   ]
  },
  {
   "cell_type": "code",
   "execution_count": 4,
   "metadata": {
    "vscode": {
     "languageId": "sql"
    }
   },
   "outputs": [
    {
     "name": "stdout",
     "output_type": "stream",
     "text": [
      " * sqlite:///cinema.db\n",
      "Done.\n"
     ]
    },
    {
     "data": {
      "text/html": [
       "<table>\n",
       "    <thead>\n",
       "        <tr>\n",
       "            <th>title</th>\n",
       "        </tr>\n",
       "    </thead>\n",
       "    <tbody>\n",
       "        <tr>\n",
       "            <td>Over the Hill to the Poorhouse</td>\n",
       "        </tr>\n",
       "        <tr>\n",
       "            <td>Hell&#x27;s Angels</td>\n",
       "        </tr>\n",
       "        <tr>\n",
       "            <td>Boom Town</td>\n",
       "        </tr>\n",
       "        <tr>\n",
       "            <td>Fantasia</td>\n",
       "        </tr>\n",
       "        <tr>\n",
       "            <td>Pinocchio</td>\n",
       "        </tr>\n",
       "    </tbody>\n",
       "</table>"
      ],
      "text/plain": [
       "[('Over the Hill to the Poorhouse',),\n",
       " (\"Hell's Angels\",),\n",
       " ('Boom Town',),\n",
       " ('Fantasia',),\n",
       " ('Pinocchio',)]"
      ]
     },
     "execution_count": 4,
     "metadata": {},
     "output_type": "execute_result"
    }
   ],
   "source": [
    "%%sql\n",
    "SELECT title \n",
    "FROM films\n",
    "WHERE release_year IN (1920, 1930, 1940)\n",
    "LIMIT 5"
   ]
  },
  {
   "cell_type": "markdown",
   "metadata": {},
   "source": [
    "### Where - Text"
   ]
  },
  {
   "cell_type": "markdown",
   "metadata": {},
   "source": [
    "If one is interested in filtering the data based on the entire/exact string, then the same operations for filtering numeric data can be used. \n",
    "\n",
    "The `LIKE` operator can be used to look for a sub-string in the string records/rows of a field/column. Here the `%` symbol is used to determine where any number of non-matching characters are allowed to be located  \n",
    "- `‘The%’`\tString has to start with ‘The’  \n",
    "- `‘%The’`\tString has to end with ‘The’  \n",
    "- `‘%The%’`\tString must contain ‘The’  "
   ]
  },
  {
   "cell_type": "code",
   "execution_count": 5,
   "metadata": {
    "vscode": {
     "languageId": "sql"
    }
   },
   "outputs": [
    {
     "name": "stdout",
     "output_type": "stream",
     "text": [
      " * sqlite:///cinema.db\n",
      "Done.\n"
     ]
    },
    {
     "data": {
      "text/html": [
       "<table>\n",
       "    <thead>\n",
       "        <tr>\n",
       "            <th>name</th>\n",
       "        </tr>\n",
       "    </thead>\n",
       "    <tbody>\n",
       "        <tr>\n",
       "            <td>Adel Karam</td>\n",
       "        </tr>\n",
       "        <tr>\n",
       "            <td>Adelaide Kane</td>\n",
       "        </tr>\n",
       "        <tr>\n",
       "            <td>Aden Young</td>\n",
       "        </tr>\n",
       "    </tbody>\n",
       "</table>"
      ],
      "text/plain": [
       "[('Adel Karam',), ('Adelaide Kane',), ('Aden Young',)]"
      ]
     },
     "execution_count": 5,
     "metadata": {},
     "output_type": "execute_result"
    }
   ],
   "source": [
    "%%sql \n",
    "SELECT name\n",
    "FROM people\n",
    "WHERE name LIKE 'Ade%'"
   ]
  },
  {
   "cell_type": "markdown",
   "metadata": {},
   "source": [
    "Alternatively the `_` symbol is used to determine where a *single non-matching character* is allowed to be located"
   ]
  },
  {
   "cell_type": "code",
   "execution_count": 6,
   "metadata": {
    "vscode": {
     "languageId": "sql"
    }
   },
   "outputs": [
    {
     "name": "stdout",
     "output_type": "stream",
     "text": [
      " * sqlite:///cinema.db\n",
      "Done.\n"
     ]
    },
    {
     "data": {
      "text/html": [
       "<table>\n",
       "    <thead>\n",
       "        <tr>\n",
       "            <th>name</th>\n",
       "        </tr>\n",
       "    </thead>\n",
       "    <tbody>\n",
       "        <tr>\n",
       "            <td>Eve</td>\n",
       "        </tr>\n",
       "    </tbody>\n",
       "</table>"
      ],
      "text/plain": [
       "[('Eve',)]"
      ]
     },
     "execution_count": 6,
     "metadata": {},
     "output_type": "execute_result"
    }
   ],
   "source": [
    "%%sql\n",
    "SELECT name\n",
    "FROM people\n",
    "WHERE name LIKE 'Ev_'"
   ]
  },
  {
   "cell_type": "markdown",
   "metadata": {},
   "source": [
    "Similar to filtering numeric data the `IN` operator may be used to check if a string is in a list "
   ]
  },
  {
   "cell_type": "code",
   "execution_count": 7,
   "metadata": {
    "vscode": {
     "languageId": "sql"
    }
   },
   "outputs": [
    {
     "name": "stdout",
     "output_type": "stream",
     "text": [
      " * sqlite:///cinema.db\n",
      "Done.\n"
     ]
    },
    {
     "data": {
      "text/html": [
       "<table>\n",
       "    <thead>\n",
       "        <tr>\n",
       "            <th>title</th>\n",
       "        </tr>\n",
       "    </thead>\n",
       "    <tbody>\n",
       "        <tr>\n",
       "            <td>Metropolis</td>\n",
       "        </tr>\n",
       "        <tr>\n",
       "            <td>Pandora&#x27;s Box</td>\n",
       "        </tr>\n",
       "        <tr>\n",
       "            <td>The Train</td>\n",
       "        </tr>\n",
       "        <tr>\n",
       "            <td>Une Femme Mariée</td>\n",
       "        </tr>\n",
       "        <tr>\n",
       "            <td>Pierrot le Fou</td>\n",
       "        </tr>\n",
       "    </tbody>\n",
       "</table>"
      ],
      "text/plain": [
       "[('Metropolis',),\n",
       " (\"Pandora's Box\",),\n",
       " ('The Train',),\n",
       " ('Une Femme Mariée',),\n",
       " ('Pierrot le Fou',)]"
      ]
     },
     "execution_count": 7,
     "metadata": {},
     "output_type": "execute_result"
    }
   ],
   "source": [
    "%%sql\n",
    "SELECT title \n",
    "FROM films \n",
    "WHERE country IN ('Germany', 'France')\n",
    "LIMIT(5)"
   ]
  },
  {
   "cell_type": "markdown",
   "metadata": {},
   "source": [
    "### Having - Grouped"
   ]
  },
  {
   "cell_type": "markdown",
   "metadata": {},
   "source": [
    "The `WHERE` operator will not work on grouped data as it is executed before the `GROUP BY` operation. Instead the `HAVING` operator can be used. "
   ]
  },
  {
   "cell_type": "code",
   "execution_count": 8,
   "metadata": {
    "vscode": {
     "languageId": "sql"
    }
   },
   "outputs": [
    {
     "name": "stdout",
     "output_type": "stream",
     "text": [
      " * sqlite:///cinema.db\n",
      "Done.\n"
     ]
    },
    {
     "data": {
      "text/html": [
       "<table>\n",
       "    <thead>\n",
       "        <tr>\n",
       "            <th>release_year</th>\n",
       "            <th>title_count</th>\n",
       "        </tr>\n",
       "    </thead>\n",
       "    <tbody>\n",
       "        <tr>\n",
       "            <td>1968</td>\n",
       "            <td>11</td>\n",
       "        </tr>\n",
       "        <tr>\n",
       "            <td>1970</td>\n",
       "            <td>12</td>\n",
       "        </tr>\n",
       "        <tr>\n",
       "            <td>1971</td>\n",
       "            <td>11</td>\n",
       "        </tr>\n",
       "        <tr>\n",
       "            <td>1977</td>\n",
       "            <td>16</td>\n",
       "        </tr>\n",
       "        <tr>\n",
       "            <td>1978</td>\n",
       "            <td>16</td>\n",
       "        </tr>\n",
       "    </tbody>\n",
       "</table>"
      ],
      "text/plain": [
       "[('1968', 11), ('1970', 12), ('1971', 11), ('1977', 16), ('1978', 16)]"
      ]
     },
     "execution_count": 8,
     "metadata": {},
     "output_type": "execute_result"
    }
   ],
   "source": [
    "%%sql \n",
    "SELECT release_year, COUNT(title) AS title_count\n",
    "FROM films\n",
    "GROUP BY release_year\n",
    "HAVING COUNT(title) > 10\n",
    "LIMIT(5)"
   ]
  },
  {
   "cell_type": "markdown",
   "metadata": {},
   "source": [
    "## Functions"
   ]
  },
  {
   "cell_type": "markdown",
   "metadata": {},
   "source": [
    "### Aggregate Functions"
   ]
  },
  {
   "cell_type": "markdown",
   "metadata": {},
   "source": [
    "There are 5 different built in aggregate functions in SQL, namely\n",
    "- `COUNT()`\n",
    "- `MIN()`\n",
    "- `MAX()`\n",
    "- `AVG()`\n",
    "- `SUM()`\n",
    "\n",
    "The `AVG()`and `SUM()`operators can only be used on numeric data as these involve Arithmetic. Similar to the `COUNT()` operator,  `MIN()` and `MAX()` may be used for non-numeric data \n",
    "\n",
    "\n",
    "`COUNT(field_name)`\tnumber of records/rows with a value in a field/column \t\t(excludes null values)  \n",
    "`COUNT(*)`\t\tnumber of records/rows in a table \t\t\t\t(includes null values)"
   ]
  },
  {
   "cell_type": "markdown",
   "metadata": {},
   "source": [
    "### Arithmatic"
   ]
  },
  {
   "cell_type": "markdown",
   "metadata": {},
   "source": [
    "SQL can perform basic arithmetic in the form of `+`,`-`, `*`, and `/`. It should be noted that integers as input will return integers as output; for decimal output one should use float input. \n",
    "\n",
    "The main difference between the aggregate functions and arithmetic is that the former performs the operation across all values in a field/column, while the latter performs the operation on the values in the records/rows."
   ]
  },
  {
   "cell_type": "code",
   "execution_count": 9,
   "metadata": {
    "vscode": {
     "languageId": "sql"
    }
   },
   "outputs": [
    {
     "name": "stdout",
     "output_type": "stream",
     "text": [
      " * sqlite:///cinema.db\n",
      "Done.\n"
     ]
    },
    {
     "data": {
      "text/html": [
       "<table>\n",
       "    <thead>\n",
       "        <tr>\n",
       "            <th>(1*3)</th>\n",
       "        </tr>\n",
       "    </thead>\n",
       "    <tbody>\n",
       "        <tr>\n",
       "            <td>3</td>\n",
       "        </tr>\n",
       "    </tbody>\n",
       "</table>"
      ],
      "text/plain": [
       "[(3,)]"
      ]
     },
     "execution_count": 9,
     "metadata": {},
     "output_type": "execute_result"
    }
   ],
   "source": [
    "%%sql\n",
    "SELECT(1*3)"
   ]
  },
  {
   "cell_type": "markdown",
   "metadata": {},
   "source": [
    "## Case"
   ]
  },
  {
   "cell_type": "markdown",
   "metadata": {},
   "source": [
    "### `CASE` in `SELECT` Statement"
   ]
  },
  {
   "cell_type": "markdown",
   "metadata": {},
   "source": [
    "When a new column/field needs to be created based on existing data the `CASE` operation may be used. This operation outputs a new value based on the existing data on a case-by-case basis."
   ]
  },
  {
   "cell_type": "code",
   "execution_count": 10,
   "metadata": {
    "vscode": {
     "languageId": "sql"
    }
   },
   "outputs": [],
   "source": [
    "%sql sqlite:///football.db"
   ]
  },
  {
   "cell_type": "code",
   "execution_count": 11,
   "metadata": {
    "vscode": {
     "languageId": "sql"
    }
   },
   "outputs": [
    {
     "name": "stdout",
     "output_type": "stream",
     "text": [
      "   sqlite:///cinema.db\n",
      " * sqlite:///football.db\n",
      "Done.\n"
     ]
    },
    {
     "data": {
      "text/html": [
       "<table>\n",
       "    <thead>\n",
       "        <tr>\n",
       "            <th>id</th>\n",
       "            <th>home_goal</th>\n",
       "            <th>away_goal</th>\n",
       "            <th>outcome</th>\n",
       "        </tr>\n",
       "    </thead>\n",
       "    <tbody>\n",
       "        <tr>\n",
       "            <td>1237</td>\n",
       "            <td>2</td>\n",
       "            <td>0</td>\n",
       "            <td>Home team win</td>\n",
       "        </tr>\n",
       "        <tr>\n",
       "            <td>1238</td>\n",
       "            <td>0</td>\n",
       "            <td>1</td>\n",
       "            <td>Away team win</td>\n",
       "        </tr>\n",
       "        <tr>\n",
       "            <td>1239</td>\n",
       "            <td>1</td>\n",
       "            <td>0</td>\n",
       "            <td>Home team win</td>\n",
       "        </tr>\n",
       "        <tr>\n",
       "            <td>1240</td>\n",
       "            <td>0</td>\n",
       "            <td>0</td>\n",
       "            <td>TIE</td>\n",
       "        </tr>\n",
       "        <tr>\n",
       "            <td>1241</td>\n",
       "            <td>2</td>\n",
       "            <td>1</td>\n",
       "            <td>Home team win</td>\n",
       "        </tr>\n",
       "    </tbody>\n",
       "</table>"
      ],
      "text/plain": [
       "[('1237', '2', '0', 'Home team win'),\n",
       " ('1238', '0', '1', 'Away team win'),\n",
       " ('1239', '1', '0', 'Home team win'),\n",
       " ('1240', '0', '0', 'TIE'),\n",
       " ('1241', '2', '1', 'Home team win')]"
      ]
     },
     "execution_count": 11,
     "metadata": {},
     "output_type": "execute_result"
    }
   ],
   "source": [
    "%%sql\n",
    "SELECT id, home_goal, away_goal,\n",
    "    CASE  \n",
    "        WHEN home_goal > away_goal THEN 'Home team win'\n",
    "        WHEN home_goal < away_goal THEN 'Away team win'\n",
    "        ELSE 'TIE'\n",
    "    END AS outcome\n",
    "FROM matches\n",
    "WHERE season = '2013/2014'\n",
    "LIMIT(5)"
   ]
  },
  {
   "cell_type": "markdown",
   "metadata": {},
   "source": [
    "### `CASE` in `WHERE` Statement"
   ]
  },
  {
   "cell_type": "markdown",
   "metadata": {},
   "source": [
    "The `WHERE` operation is executed before the `SELECT` statement, as a result the alias of a `CASE` operation in the `SELECT` statement cannot be used in the where statement. Instead the entire `CASE` statement can be copy-pasted into the `WHERE` statement in order to filter by the output of the `CASE` statement. "
   ]
  },
  {
   "cell_type": "code",
   "execution_count": 16,
   "metadata": {
    "vscode": {
     "languageId": "sql"
    }
   },
   "outputs": [
    {
     "name": "stdout",
     "output_type": "stream",
     "text": [
      "   sqlite:///cinema.db\n",
      " * sqlite:///football.db\n",
      "Done.\n"
     ]
    },
    {
     "data": {
      "text/html": [
       "<table>\n",
       "    <thead>\n",
       "        <tr>\n",
       "            <th>date</th>\n",
       "            <th>season</th>\n",
       "            <th>outcome</th>\n",
       "        </tr>\n",
       "    </thead>\n",
       "    <tbody>\n",
       "        <tr>\n",
       "            <td>2011-11-05T00:00:00.000</td>\n",
       "            <td>2011/2012</td>\n",
       "            <td>Chealsea away win</td>\n",
       "        </tr>\n",
       "        <tr>\n",
       "            <td>2011-11-26T00:00:00.000</td>\n",
       "            <td>2011/2012</td>\n",
       "            <td>Chealsea home win</td>\n",
       "        </tr>\n",
       "        <tr>\n",
       "            <td>2011-12-03T00:00:00.000</td>\n",
       "            <td>2011/2012</td>\n",
       "            <td>Chealsea away win</td>\n",
       "        </tr>\n",
       "        <tr>\n",
       "            <td>2011-12-12T00:00:00.000</td>\n",
       "            <td>2011/2012</td>\n",
       "            <td>Chealsea home win</td>\n",
       "        </tr>\n",
       "        <tr>\n",
       "            <td>2011-08-20T00:00:00.000</td>\n",
       "            <td>2011/2012</td>\n",
       "            <td>Chealsea home win</td>\n",
       "        </tr>\n",
       "    </tbody>\n",
       "</table>"
      ],
      "text/plain": [
       "[('2011-11-05T00:00:00.000', '2011/2012', 'Chealsea away win'),\n",
       " ('2011-11-26T00:00:00.000', '2011/2012', 'Chealsea home win'),\n",
       " ('2011-12-03T00:00:00.000', '2011/2012', 'Chealsea away win'),\n",
       " ('2011-12-12T00:00:00.000', '2011/2012', 'Chealsea home win'),\n",
       " ('2011-08-20T00:00:00.000', '2011/2012', 'Chealsea home win')]"
      ]
     },
     "execution_count": 16,
     "metadata": {},
     "output_type": "execute_result"
    }
   ],
   "source": [
    "%%sql\n",
    "SELECT date, season,\n",
    "    (CASE \n",
    "        WHEN hometeam_id = 8455 AND home_goal > away_goal THEN 'Chealsea home win'\n",
    "        WHEN awayteam_id = 8455 AND away_goal > home_goal THEN 'Chealsea away win'\n",
    "    END) AS outcome\n",
    "FROM matches\n",
    "WHERE \n",
    "    (CASE \n",
    "        WHEN hometeam_id = 8455 AND home_goal > away_goal THEN 'Chealsea home win'\n",
    "        WHEN awayteam_id = 8455 AND away_goal > home_goal THEN 'Chealsea away win'\n",
    "    END) IS NOT NULL\n",
    "LIMIT(5)\n",
    "    "
   ]
  },
  {
   "cell_type": "markdown",
   "metadata": {},
   "source": [
    "### `CASE` with Aggregate Functions"
   ]
  },
  {
   "cell_type": "markdown",
   "metadata": {},
   "source": [
    "The `CASE` operation will return a column of filtered data, one can then use an aggregate function to summarize the data into a single value. \n",
    "\n",
    "The `COUNT` operator will count the number of non-null rows in this newly created column (so it does not actually matter what value is being returned in the column if the `CASE` operation is only used for counting). "
   ]
  },
  {
   "cell_type": "code",
   "execution_count": 18,
   "metadata": {
    "vscode": {
     "languageId": "sql"
    }
   },
   "outputs": [
    {
     "name": "stdout",
     "output_type": "stream",
     "text": [
      "   sqlite:///cinema.db\n",
      " * sqlite:///football.db\n",
      "Done.\n"
     ]
    },
    {
     "data": {
      "text/html": [
       "<table>\n",
       "    <thead>\n",
       "        <tr>\n",
       "            <th>season</th>\n",
       "            <th>home_wins</th>\n",
       "            <th>away_wins</th>\n",
       "        </tr>\n",
       "    </thead>\n",
       "    <tbody>\n",
       "        <tr>\n",
       "            <td>2011/2012</td>\n",
       "            <td>6</td>\n",
       "            <td>8</td>\n",
       "        </tr>\n",
       "        <tr>\n",
       "            <td>2012/2013</td>\n",
       "            <td>9</td>\n",
       "            <td>7</td>\n",
       "        </tr>\n",
       "        <tr>\n",
       "            <td>2013/2014</td>\n",
       "            <td>16</td>\n",
       "            <td>10</td>\n",
       "        </tr>\n",
       "        <tr>\n",
       "            <td>2014/2015</td>\n",
       "            <td>10</td>\n",
       "            <td>8</td>\n",
       "        </tr>\n",
       "    </tbody>\n",
       "</table>"
      ],
      "text/plain": [
       "[('2011/2012', 6, 8),\n",
       " ('2012/2013', 9, 7),\n",
       " ('2013/2014', 16, 10),\n",
       " ('2014/2015', 10, 8)]"
      ]
     },
     "execution_count": 18,
     "metadata": {},
     "output_type": "execute_result"
    }
   ],
   "source": [
    "%%sql \n",
    "SELECT \n",
    "    season,\n",
    "    COUNT(\n",
    "        CASE \n",
    "            WHEN hometeam_id = 8650 AND home_goal > away_goal THEN id \n",
    "        END\n",
    "    ) AS home_wins,\n",
    "    COUNT(\n",
    "        CASE \n",
    "            WHEN awayteam_id = 8650 AND away_goal > home_goal THEN id \n",
    "        END\n",
    "    ) AS away_wins\n",
    "FROM matches\n",
    "GROUP BY season"
   ]
  },
  {
   "cell_type": "markdown",
   "metadata": {},
   "source": [
    "The `SUM` operator will sum all the numeric values in the newly created column (so in this case it does matter what values are being returned). "
   ]
  },
  {
   "cell_type": "code",
   "execution_count": 19,
   "metadata": {
    "vscode": {
     "languageId": "sql"
    }
   },
   "outputs": [
    {
     "name": "stdout",
     "output_type": "stream",
     "text": [
      "   sqlite:///cinema.db\n",
      " * sqlite:///football.db\n",
      "Done.\n"
     ]
    },
    {
     "data": {
      "text/html": [
       "<table>\n",
       "    <thead>\n",
       "        <tr>\n",
       "            <th>season</th>\n",
       "            <th>home_goals</th>\n",
       "            <th>away_goals</th>\n",
       "        </tr>\n",
       "    </thead>\n",
       "    <tbody>\n",
       "        <tr>\n",
       "            <td>2011/2012</td>\n",
       "            <td>24</td>\n",
       "            <td>23</td>\n",
       "        </tr>\n",
       "        <tr>\n",
       "            <td>2012/2013</td>\n",
       "            <td>33</td>\n",
       "            <td>38</td>\n",
       "        </tr>\n",
       "        <tr>\n",
       "            <td>2013/2014</td>\n",
       "            <td>53</td>\n",
       "            <td>48</td>\n",
       "        </tr>\n",
       "        <tr>\n",
       "            <td>2014/2015</td>\n",
       "            <td>30</td>\n",
       "            <td>22</td>\n",
       "        </tr>\n",
       "    </tbody>\n",
       "</table>"
      ],
      "text/plain": [
       "[('2011/2012', 24, 23),\n",
       " ('2012/2013', 33, 38),\n",
       " ('2013/2014', 53, 48),\n",
       " ('2014/2015', 30, 22)]"
      ]
     },
     "execution_count": 19,
     "metadata": {},
     "output_type": "execute_result"
    }
   ],
   "source": [
    "%%sql \n",
    "SELECT \n",
    "    season,\n",
    "    SUM(\n",
    "        CASE \n",
    "            WHEN hometeam_id = 8650 THEN home_goal \n",
    "        END\n",
    "    ) AS home_goals,\n",
    "    SUM(\n",
    "        CASE \n",
    "            WHEN awayteam_id = 8650 THEN away_goal\n",
    "        END\n",
    "    ) AS away_goals\n",
    "FROM matches\n",
    "GROUP BY season"
   ]
  },
  {
   "cell_type": "markdown",
   "metadata": {},
   "source": [
    "By assigning a binary value in the `CASE` operation, and subsequently using `AVG()`, one is able to easily calculate the percentage of how often something occurs. "
   ]
  },
  {
   "cell_type": "code",
   "execution_count": 23,
   "metadata": {
    "vscode": {
     "languageId": "sql"
    }
   },
   "outputs": [
    {
     "name": "stdout",
     "output_type": "stream",
     "text": [
      "   sqlite:///cinema.db\n",
      " * sqlite:///football.db\n",
      "Done.\n"
     ]
    },
    {
     "data": {
      "text/html": [
       "<table>\n",
       "    <thead>\n",
       "        <tr>\n",
       "            <th>season</th>\n",
       "            <th>pct_homewins</th>\n",
       "            <th>pct_awaywins</th>\n",
       "        </tr>\n",
       "    </thead>\n",
       "    <tbody>\n",
       "        <tr>\n",
       "            <td>2011/2012</td>\n",
       "            <td>0.75</td>\n",
       "            <td>0.5</td>\n",
       "        </tr>\n",
       "        <tr>\n",
       "            <td>2012/2013</td>\n",
       "            <td>0.86</td>\n",
       "            <td>0.67</td>\n",
       "        </tr>\n",
       "        <tr>\n",
       "            <td>2013/2014</td>\n",
       "            <td>0.94</td>\n",
       "            <td>0.67</td>\n",
       "        </tr>\n",
       "        <tr>\n",
       "            <td>2014/2015</td>\n",
       "            <td>1.0</td>\n",
       "            <td>0.79</td>\n",
       "        </tr>\n",
       "    </tbody>\n",
       "</table>"
      ],
      "text/plain": [
       "[('2011/2012', 0.75, 0.5),\n",
       " ('2012/2013', 0.86, 0.67),\n",
       " ('2013/2014', 0.94, 0.67),\n",
       " ('2014/2015', 1.0, 0.79)]"
      ]
     },
     "execution_count": 23,
     "metadata": {},
     "output_type": "execute_result"
    }
   ],
   "source": [
    "%%sql\n",
    "SELECT\n",
    "    season,\n",
    "    ROUND(AVG(\n",
    "        CASE\n",
    "            WHEN hometeam_id = 8455 AND home_goal > away_goal THEN 1\n",
    "            WHEN hometeam_id = 8455 AND home_goal < away_goal THEN 0\n",
    "        END), 2) AS pct_homewins,\n",
    "    ROUND(AVG(\n",
    "        CASE\n",
    "            WHEN awayteam_id = 8455 AND home_goal < away_goal THEN 1\n",
    "            WHEN awayteam_id = 8455 AND home_goal > away_goal THEN 0\n",
    "        END), 2) AS pct_awaywins\n",
    "FROM matches\n",
    "GROUP BY season"
   ]
  },
  {
   "cell_type": "markdown",
   "metadata": {},
   "source": [
    "## Joining Tables"
   ]
  },
  {
   "cell_type": "markdown",
   "metadata": {},
   "source": [
    "### Inner Join"
   ]
  },
  {
   "cell_type": "markdown",
   "metadata": {},
   "source": [
    "The `INNER JOIN` command looks for records that match in both tables, and only returns the matching records\n",
    "\n",
    "<img src=\"images/inner_join.png\" width=\"600\"></img>"
   ]
  },
  {
   "cell_type": "code",
   "execution_count": 34,
   "metadata": {
    "vscode": {
     "languageId": "sql"
    }
   },
   "outputs": [],
   "source": [
    "%sql sqlite:///world.db"
   ]
  },
  {
   "cell_type": "code",
   "execution_count": 33,
   "metadata": {
    "vscode": {
     "languageId": "sql"
    }
   },
   "outputs": [
    {
     "name": "stdout",
     "output_type": "stream",
     "text": [
      "   sqlite:///cinema.db\n",
      "   sqlite:///football.db\n",
      " * sqlite:///world.db\n",
      "Done.\n",
      "Done.\n"
     ]
    },
    {
     "data": {
      "text/html": [
       "<table>\n",
       "    <thead>\n",
       "        <tr>\n",
       "            <th>country</th>\n",
       "            <th>continent</th>\n",
       "            <th>prime_minister</th>\n",
       "            <th>president</th>\n",
       "        </tr>\n",
       "    </thead>\n",
       "    <tbody>\n",
       "        <tr>\n",
       "            <td>Egypt</td>\n",
       "            <td>Africa</td>\n",
       "            <td>Sherif Ismail</td>\n",
       "            <td>Abdel Fattah el-Sisi</td>\n",
       "        </tr>\n",
       "        <tr>\n",
       "            <td>Portugal</td>\n",
       "            <td>Europe</td>\n",
       "            <td>Antonio Costa</td>\n",
       "            <td>Marcelo Rebelo de Sousa</td>\n",
       "        </tr>\n",
       "        <tr>\n",
       "            <td>Vietnam</td>\n",
       "            <td>Asia</td>\n",
       "            <td>Nguyen Xuan Phuc</td>\n",
       "            <td>Tran Dai Quang</td>\n",
       "        </tr>\n",
       "        <tr>\n",
       "            <td>Haiti</td>\n",
       "            <td>North America</td>\n",
       "            <td>Jack Guy Lafontant</td>\n",
       "            <td>Jovenel Moise</td>\n",
       "        </tr>\n",
       "    </tbody>\n",
       "</table>"
      ],
      "text/plain": [
       "[('Egypt', 'Africa', 'Sherif Ismail', 'Abdel Fattah el-Sisi'),\n",
       " ('Portugal', 'Europe', 'Antonio Costa', 'Marcelo Rebelo de Sousa'),\n",
       " ('Vietnam', 'Asia', 'Nguyen Xuan Phuc', 'Tran Dai Quang'),\n",
       " ('Haiti', 'North America', 'Jack Guy Lafontant', 'Jovenel Moise')]"
      ]
     },
     "execution_count": 33,
     "metadata": {},
     "output_type": "execute_result"
    }
   ],
   "source": [
    "%%sql\n",
    "SELECT pm.country, pm.continent, pm.prime_minister, p.president \n",
    "FROM prime_ministers AS pm\n",
    "INNER JOIN presidents AS p USING(country)\n",
    "LIMIT(5);\n",
    "\n",
    "-- OR --\n",
    "\n",
    "SELECT pm.country, pm.continent, pm.prime_minister, p.president \n",
    "FROM prime_ministers AS pm\n",
    "INNER JOIN presidents AS p ON pm.country = p.country\n",
    "LIMIT(5);"
   ]
  },
  {
   "cell_type": "markdown",
   "metadata": {},
   "source": [
    "One can join on multiple keys with the `AND` keyword\n",
    "\n",
    "<img src=\"images/inner_join_and.png\" width=\"800\"></img>\n",
    "\n",
    "\n",
    "You can join multiple tables by chaining `JOIN ON` commands\n",
    "\n",
    "<img src=\"images/inner_join_chain.png\" width=\"700\"></img>\n"
   ]
  },
  {
   "cell_type": "code",
   "execution_count": 61,
   "metadata": {
    "vscode": {
     "languageId": "sql"
    }
   },
   "outputs": [
    {
     "name": "stdout",
     "output_type": "stream",
     "text": [
      "   sqlite:///cinema.db\n",
      "   sqlite:///football.db\n",
      " * sqlite:///world.db\n",
      "Done.\n"
     ]
    },
    {
     "data": {
      "text/html": [
       "<table>\n",
       "    <thead>\n",
       "        <tr>\n",
       "            <th>city_name</th>\n",
       "            <th>country_name</th>\n",
       "            <th>currency</th>\n",
       "        </tr>\n",
       "    </thead>\n",
       "    <tbody>\n",
       "        <tr>\n",
       "            <td>Abidjan</td>\n",
       "            <td>Cote d&#x27;Ivoire</td>\n",
       "            <td>West African CFA franc</td>\n",
       "        </tr>\n",
       "        <tr>\n",
       "            <td>Abu Dhabi</td>\n",
       "            <td>United Arab Emirates</td>\n",
       "            <td>United Arab Emirates dirham</td>\n",
       "        </tr>\n",
       "        <tr>\n",
       "            <td>Abuja</td>\n",
       "            <td>Nigeria</td>\n",
       "            <td>Nigerian naira</td>\n",
       "        </tr>\n",
       "        <tr>\n",
       "            <td>Accra</td>\n",
       "            <td>Ghana</td>\n",
       "            <td>Ghanaian cedi</td>\n",
       "        </tr>\n",
       "        <tr>\n",
       "            <td>Addis Ababa</td>\n",
       "            <td>Ethiopia</td>\n",
       "            <td>Ethiopian birr</td>\n",
       "        </tr>\n",
       "    </tbody>\n",
       "</table>"
      ],
      "text/plain": [
       "[('Abidjan', \"Cote d'Ivoire\", 'West African CFA franc'),\n",
       " ('Abu Dhabi', 'United Arab Emirates', 'United Arab Emirates dirham'),\n",
       " ('Abuja', 'Nigeria', 'Nigerian naira'),\n",
       " ('Accra', 'Ghana', 'Ghanaian cedi'),\n",
       " ('Addis Ababa', 'Ethiopia', 'Ethiopian birr')]"
      ]
     },
     "execution_count": 61,
     "metadata": {},
     "output_type": "execute_result"
    }
   ],
   "source": [
    "%%sql\n",
    "SELECT \n",
    "    ci.name AS city_name, \n",
    "    co.name AS country_name, \n",
    "    cu.basic_unit AS currency\n",
    "FROM cities AS ci\n",
    "INNER JOIN countries AS co ON co.code = ci.country_code\n",
    "INNER JOIN currencies AS cu ON cu.code = ci.country_code\n",
    "LIMIT(5)"
   ]
  },
  {
   "cell_type": "markdown",
   "metadata": {},
   "source": []
  },
  {
   "cell_type": "markdown",
   "metadata": {},
   "source": [
    "<img src=\"images/inner_join.png\" width=\"600\"></img>\n"
   ]
  },
  {
   "cell_type": "markdown",
   "metadata": {},
   "source": []
  }
 ],
 "metadata": {
  "kernelspec": {
   "display_name": ".venv",
   "language": "python",
   "name": "python3"
  },
  "language_info": {
   "codemirror_mode": {
    "name": "ipython",
    "version": 3
   },
   "file_extension": ".py",
   "mimetype": "text/x-python",
   "name": "python",
   "nbconvert_exporter": "python",
   "pygments_lexer": "ipython3",
   "version": "3.11.5"
  }
 },
 "nbformat": 4,
 "nbformat_minor": 2
}
