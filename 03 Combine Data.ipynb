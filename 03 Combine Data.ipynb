{
 "cells": [
  {
   "cell_type": "markdown",
   "metadata": {},
   "source": [
    "# **Combine Data**"
   ]
  },
  {
   "cell_type": "markdown",
   "metadata": {},
   "source": [
    "## Joining Tables"
   ]
  },
  {
   "cell_type": "code",
   "execution_count": 4,
   "metadata": {
    "vscode": {
     "languageId": "sql"
    }
   },
   "outputs": [
    {
     "name": "stdout",
     "output_type": "stream",
     "text": [
      "The sql extension is already loaded. To reload it, use:\n",
      "  %reload_ext sql\n"
     ]
    }
   ],
   "source": [
    "%load_ext sql\n",
    "%sql sqlite:///databases/world.db"
   ]
  },
  {
   "cell_type": "markdown",
   "metadata": {},
   "source": [
    "### Inner Join"
   ]
  },
  {
   "cell_type": "markdown",
   "metadata": {},
   "source": [
    "The `INNER JOIN` command looks for records that match in both tables, and only returns the matching records\n",
    "\n",
    "<img src=\"images/inner_join.png\" width=\"600\"></img>"
   ]
  },
  {
   "cell_type": "code",
   "execution_count": 5,
   "metadata": {
    "vscode": {
     "languageId": "sql"
    }
   },
   "outputs": [
    {
     "name": "stdout",
     "output_type": "stream",
     "text": [
      " * sqlite:///databases/world.db\n",
      "Done.\n",
      "Done.\n"
     ]
    },
    {
     "data": {
      "text/html": [
       "<table>\n",
       "    <thead>\n",
       "        <tr>\n",
       "            <th>country</th>\n",
       "            <th>continent</th>\n",
       "            <th>prime_minister</th>\n",
       "            <th>president</th>\n",
       "        </tr>\n",
       "    </thead>\n",
       "    <tbody>\n",
       "        <tr>\n",
       "            <td>Egypt</td>\n",
       "            <td>Africa</td>\n",
       "            <td>Sherif Ismail</td>\n",
       "            <td>Abdel Fattah el-Sisi</td>\n",
       "        </tr>\n",
       "        <tr>\n",
       "            <td>Portugal</td>\n",
       "            <td>Europe</td>\n",
       "            <td>Antonio Costa</td>\n",
       "            <td>Marcelo Rebelo de Sousa</td>\n",
       "        </tr>\n",
       "        <tr>\n",
       "            <td>Vietnam</td>\n",
       "            <td>Asia</td>\n",
       "            <td>Nguyen Xuan Phuc</td>\n",
       "            <td>Tran Dai Quang</td>\n",
       "        </tr>\n",
       "        <tr>\n",
       "            <td>Haiti</td>\n",
       "            <td>North America</td>\n",
       "            <td>Jack Guy Lafontant</td>\n",
       "            <td>Jovenel Moise</td>\n",
       "        </tr>\n",
       "    </tbody>\n",
       "</table>"
      ],
      "text/plain": [
       "[('Egypt', 'Africa', 'Sherif Ismail', 'Abdel Fattah el-Sisi'),\n",
       " ('Portugal', 'Europe', 'Antonio Costa', 'Marcelo Rebelo de Sousa'),\n",
       " ('Vietnam', 'Asia', 'Nguyen Xuan Phuc', 'Tran Dai Quang'),\n",
       " ('Haiti', 'North America', 'Jack Guy Lafontant', 'Jovenel Moise')]"
      ]
     },
     "execution_count": 5,
     "metadata": {},
     "output_type": "execute_result"
    }
   ],
   "source": [
    "%%sql\n",
    "SELECT pm.country, pm.continent, pm.prime_minister, p.president \n",
    "FROM prime_ministers AS pm\n",
    "INNER JOIN presidents AS p USING(country)\n",
    "LIMIT(5);\n",
    "\n",
    "-- OR --\n",
    "\n",
    "SELECT pm.country, pm.continent, pm.prime_minister, p.president \n",
    "FROM prime_ministers AS pm\n",
    "INNER JOIN presidents AS p ON pm.country = p.country\n",
    "LIMIT(5);"
   ]
  },
  {
   "cell_type": "markdown",
   "metadata": {},
   "source": [
    "One can join on multiple keys with the `AND` keyword\n",
    "\n",
    "<img src=\"images/inner_join_and.png\" width=\"800\"></img>\n",
    "\n",
    "\n",
    "You can join multiple tables by chaining `JOIN ON` commands\n",
    "\n",
    "<img src=\"images/inner_join_chain.png\" width=\"700\"></img>\n"
   ]
  },
  {
   "cell_type": "code",
   "execution_count": 6,
   "metadata": {
    "vscode": {
     "languageId": "sql"
    }
   },
   "outputs": [
    {
     "name": "stdout",
     "output_type": "stream",
     "text": [
      " * sqlite:///databases/world.db\n",
      "Done.\n"
     ]
    },
    {
     "data": {
      "text/html": [
       "<table>\n",
       "    <thead>\n",
       "        <tr>\n",
       "            <th>city_name</th>\n",
       "            <th>country_name</th>\n",
       "            <th>currency</th>\n",
       "        </tr>\n",
       "    </thead>\n",
       "    <tbody>\n",
       "        <tr>\n",
       "            <td>Abidjan</td>\n",
       "            <td>Cote d&#x27;Ivoire</td>\n",
       "            <td>West African CFA franc</td>\n",
       "        </tr>\n",
       "        <tr>\n",
       "            <td>Abu Dhabi</td>\n",
       "            <td>United Arab Emirates</td>\n",
       "            <td>United Arab Emirates dirham</td>\n",
       "        </tr>\n",
       "        <tr>\n",
       "            <td>Abuja</td>\n",
       "            <td>Nigeria</td>\n",
       "            <td>Nigerian naira</td>\n",
       "        </tr>\n",
       "        <tr>\n",
       "            <td>Accra</td>\n",
       "            <td>Ghana</td>\n",
       "            <td>Ghanaian cedi</td>\n",
       "        </tr>\n",
       "        <tr>\n",
       "            <td>Addis Ababa</td>\n",
       "            <td>Ethiopia</td>\n",
       "            <td>Ethiopian birr</td>\n",
       "        </tr>\n",
       "    </tbody>\n",
       "</table>"
      ],
      "text/plain": [
       "[('Abidjan', \"Cote d'Ivoire\", 'West African CFA franc'),\n",
       " ('Abu Dhabi', 'United Arab Emirates', 'United Arab Emirates dirham'),\n",
       " ('Abuja', 'Nigeria', 'Nigerian naira'),\n",
       " ('Accra', 'Ghana', 'Ghanaian cedi'),\n",
       " ('Addis Ababa', 'Ethiopia', 'Ethiopian birr')]"
      ]
     },
     "execution_count": 6,
     "metadata": {},
     "output_type": "execute_result"
    }
   ],
   "source": [
    "%%sql\n",
    "SELECT \n",
    "    ci.name AS city_name, \n",
    "    co.name AS country_name, \n",
    "    cu.basic_unit AS currency\n",
    "FROM cities AS ci\n",
    "INNER JOIN countries AS co ON co.code = ci.country_code\n",
    "INNER JOIN currencies AS cu ON cu.code = ci.country_code\n",
    "LIMIT(5)"
   ]
  },
  {
   "cell_type": "markdown",
   "metadata": {},
   "source": [
    "### Outer Join "
   ]
  },
  {
   "cell_type": "markdown",
   "metadata": {},
   "source": [
    "#### Left & Right Outer Join\n"
   ]
  },
  {
   "cell_type": "markdown",
   "metadata": {},
   "source": [
    "There are two variants of the outer join command, namely `LEFT OUTER JOIN` and `RIGHT OUTER JOIN`. These commands will look  for records that match in both tables, and return all the records from the left or right table. If the table that is being joined doesn’t contain values for a certain record, then a null value is returned.\n",
    "\n",
    "`LEFT OUTER JOIN` and `RIGHT OUTER JOIN` are equivalent; a left outer join can be rewritten into a right outer join based on the syntax of the SQL command. \n",
    "\n",
    "When performing a left or right join, the `OUTER` command can be omitted. `LEFT OUTER JOIN` is equivalent to `LEFT JOIN`\n",
    "\n",
    "<img src=\"images/left_outer_join.png\" width=\"600\"></img>\n"
   ]
  },
  {
   "cell_type": "code",
   "execution_count": 7,
   "metadata": {
    "vscode": {
     "languageId": "sql"
    }
   },
   "outputs": [
    {
     "name": "stdout",
     "output_type": "stream",
     "text": [
      " * sqlite:///databases/world.db\n",
      "Done.\n"
     ]
    },
    {
     "data": {
      "text/html": [
       "<table>\n",
       "    <thead>\n",
       "        <tr>\n",
       "            <th>country</th>\n",
       "            <th>prime_minister</th>\n",
       "            <th>president</th>\n",
       "        </tr>\n",
       "    </thead>\n",
       "    <tbody>\n",
       "        <tr>\n",
       "            <td>Egypt</td>\n",
       "            <td>Sherif Ismail</td>\n",
       "            <td>Abdel Fattah el-Sisi</td>\n",
       "        </tr>\n",
       "        <tr>\n",
       "            <td>Portugal</td>\n",
       "            <td>Antonio Costa</td>\n",
       "            <td>Marcelo Rebelo de Sousa</td>\n",
       "        </tr>\n",
       "        <tr>\n",
       "            <td>Vietnam</td>\n",
       "            <td>Nguyen Xuan Phuc</td>\n",
       "            <td>Tran Dai Quang</td>\n",
       "        </tr>\n",
       "        <tr>\n",
       "            <td>Haiti</td>\n",
       "            <td>Jack Guy Lafontant</td>\n",
       "            <td>Jovenel Moise</td>\n",
       "        </tr>\n",
       "        <tr>\n",
       "            <td>India</td>\n",
       "            <td>Narendra Modi</td>\n",
       "            <td>None</td>\n",
       "        </tr>\n",
       "    </tbody>\n",
       "</table>"
      ],
      "text/plain": [
       "[('Egypt', 'Sherif Ismail', 'Abdel Fattah el-Sisi'),\n",
       " ('Portugal', 'Antonio Costa', 'Marcelo Rebelo de Sousa'),\n",
       " ('Vietnam', 'Nguyen Xuan Phuc', 'Tran Dai Quang'),\n",
       " ('Haiti', 'Jack Guy Lafontant', 'Jovenel Moise'),\n",
       " ('India', 'Narendra Modi', None)]"
      ]
     },
     "execution_count": 7,
     "metadata": {},
     "output_type": "execute_result"
    }
   ],
   "source": [
    "%%sql \n",
    "SELECT pm.country, pm.prime_minister, pr.president\n",
    "FROM prime_ministers AS pm\n",
    "LEFT JOIN presidents AS pr ON pm.country = pr.country\n",
    "LIMIT(5)"
   ]
  },
  {
   "cell_type": "markdown",
   "metadata": {},
   "source": [
    "#### Full Outer Join"
   ]
  },
  {
   "cell_type": "markdown",
   "metadata": {},
   "source": [
    "The `FULL JOIN `or `FULL OUTER JOIN` command returns all values in both tables, if there is no match a `null` value will be returned"
   ]
  },
  {
   "cell_type": "markdown",
   "metadata": {},
   "source": [
    "<img src=\"images/full_outer_join.png\" width=\"600\"></img>\n"
   ]
  },
  {
   "cell_type": "code",
   "execution_count": 8,
   "metadata": {
    "vscode": {
     "languageId": "sql"
    }
   },
   "outputs": [
    {
     "name": "stdout",
     "output_type": "stream",
     "text": [
      " * sqlite:///databases/world.db\n",
      "Done.\n"
     ]
    },
    {
     "data": {
      "text/html": [
       "<table>\n",
       "    <thead>\n",
       "        <tr>\n",
       "            <th>country</th>\n",
       "            <th>prime_minister</th>\n",
       "            <th>president</th>\n",
       "        </tr>\n",
       "    </thead>\n",
       "    <tbody>\n",
       "        <tr>\n",
       "            <td>Egypt</td>\n",
       "            <td>Sherif Ismail</td>\n",
       "            <td>Abdel Fattah el-Sisi</td>\n",
       "        </tr>\n",
       "        <tr>\n",
       "            <td>Portugal</td>\n",
       "            <td>Antonio Costa</td>\n",
       "            <td>Marcelo Rebelo de Sousa</td>\n",
       "        </tr>\n",
       "        <tr>\n",
       "            <td>Vietnam</td>\n",
       "            <td>Nguyen Xuan Phuc</td>\n",
       "            <td>Tran Dai Quang</td>\n",
       "        </tr>\n",
       "        <tr>\n",
       "            <td>Haiti</td>\n",
       "            <td>Jack Guy Lafontant</td>\n",
       "            <td>Jovenel Moise</td>\n",
       "        </tr>\n",
       "        <tr>\n",
       "            <td>India</td>\n",
       "            <td>Narendra Modi</td>\n",
       "            <td>None</td>\n",
       "        </tr>\n",
       "    </tbody>\n",
       "</table>"
      ],
      "text/plain": [
       "[('Egypt', 'Sherif Ismail', 'Abdel Fattah el-Sisi'),\n",
       " ('Portugal', 'Antonio Costa', 'Marcelo Rebelo de Sousa'),\n",
       " ('Vietnam', 'Nguyen Xuan Phuc', 'Tran Dai Quang'),\n",
       " ('Haiti', 'Jack Guy Lafontant', 'Jovenel Moise'),\n",
       " ('India', 'Narendra Modi', None)]"
      ]
     },
     "execution_count": 8,
     "metadata": {},
     "output_type": "execute_result"
    }
   ],
   "source": [
    "%%sql \n",
    "SELECT pm.country, pm.prime_minister, pr.president\n",
    "FROM prime_ministers AS pm\n",
    "FULL JOIN presidents AS pr ON pm.country = pr.country\n",
    "LIMIT(5)"
   ]
  },
  {
   "cell_type": "markdown",
   "metadata": {},
   "source": [
    "### Cross Join"
   ]
  },
  {
   "cell_type": "markdown",
   "metadata": {},
   "source": [
    "The `CROSS JOIN` command returns all possible combinations of the records of two tables. \n",
    "\n",
    "<img src=\"images/cross_join.png\" width=\"300\"></img>\n"
   ]
  },
  {
   "cell_type": "code",
   "execution_count": 9,
   "metadata": {
    "vscode": {
     "languageId": "sql"
    }
   },
   "outputs": [
    {
     "name": "stdout",
     "output_type": "stream",
     "text": [
      " * sqlite:///databases/world.db\n",
      "Done.\n"
     ]
    },
    {
     "data": {
      "text/html": [
       "<table>\n",
       "    <thead>\n",
       "        <tr>\n",
       "            <th>country</th>\n",
       "            <th>prime_minister</th>\n",
       "            <th>president</th>\n",
       "        </tr>\n",
       "    </thead>\n",
       "    <tbody>\n",
       "        <tr>\n",
       "            <td>Egypt</td>\n",
       "            <td>Sherif Ismail</td>\n",
       "            <td>Abdel Fattah el-Sisi</td>\n",
       "        </tr>\n",
       "        <tr>\n",
       "            <td>Egypt</td>\n",
       "            <td>Sherif Ismail</td>\n",
       "            <td>Marcelo Rebelo de Sousa</td>\n",
       "        </tr>\n",
       "        <tr>\n",
       "            <td>Egypt</td>\n",
       "            <td>Sherif Ismail</td>\n",
       "            <td>Jovenel Moise</td>\n",
       "        </tr>\n",
       "        <tr>\n",
       "            <td>Egypt</td>\n",
       "            <td>Sherif Ismail</td>\n",
       "            <td>Jose Mujica</td>\n",
       "        </tr>\n",
       "        <tr>\n",
       "            <td>Egypt</td>\n",
       "            <td>Sherif Ismail</td>\n",
       "            <td>Ellen Johnson Sirleaf</td>\n",
       "        </tr>\n",
       "    </tbody>\n",
       "</table>"
      ],
      "text/plain": [
       "[('Egypt', 'Sherif Ismail', 'Abdel Fattah el-Sisi'),\n",
       " ('Egypt', 'Sherif Ismail', 'Marcelo Rebelo de Sousa'),\n",
       " ('Egypt', 'Sherif Ismail', 'Jovenel Moise'),\n",
       " ('Egypt', 'Sherif Ismail', 'Jose Mujica'),\n",
       " ('Egypt', 'Sherif Ismail', 'Ellen Johnson Sirleaf')]"
      ]
     },
     "execution_count": 9,
     "metadata": {},
     "output_type": "execute_result"
    }
   ],
   "source": [
    "%%sql \n",
    "SELECT pm.country, pm.prime_minister, pr.president\n",
    "FROM prime_ministers AS pm\n",
    "CROSS JOIN presidents AS pr\n",
    "LIMIT(5)"
   ]
  },
  {
   "cell_type": "markdown",
   "metadata": {},
   "source": [
    "### Self Join"
   ]
  },
  {
   "cell_type": "markdown",
   "metadata": {},
   "source": [
    "It is also possible to join a table with itself in order to compare the records of a single table with each other. There is no dedicated syntax for this operation, instead an `INNER JOIN` is performed using the same table.  "
   ]
  },
  {
   "cell_type": "code",
   "execution_count": 10,
   "metadata": {
    "vscode": {
     "languageId": "sql"
    }
   },
   "outputs": [
    {
     "name": "stdout",
     "output_type": "stream",
     "text": [
      " * sqlite:///databases/world.db\n",
      "Done.\n"
     ]
    },
    {
     "data": {
      "text/html": [
       "<table>\n",
       "    <thead>\n",
       "        <tr>\n",
       "            <th>country1</th>\n",
       "            <th>country2</th>\n",
       "            <th>continent</th>\n",
       "        </tr>\n",
       "    </thead>\n",
       "    <tbody>\n",
       "        <tr>\n",
       "            <td>Portugal</td>\n",
       "            <td>Norway</td>\n",
       "            <td>Europe</td>\n",
       "        </tr>\n",
       "        <tr>\n",
       "            <td>Portugal</td>\n",
       "            <td>Spain</td>\n",
       "            <td>Europe</td>\n",
       "        </tr>\n",
       "        <tr>\n",
       "            <td>Vietnam</td>\n",
       "            <td>Brunei</td>\n",
       "            <td>Asia</td>\n",
       "        </tr>\n",
       "        <tr>\n",
       "            <td>Vietnam</td>\n",
       "            <td>India</td>\n",
       "            <td>Asia</td>\n",
       "        </tr>\n",
       "        <tr>\n",
       "            <td>Vietnam</td>\n",
       "            <td>Oman</td>\n",
       "            <td>Asia</td>\n",
       "        </tr>\n",
       "    </tbody>\n",
       "</table>"
      ],
      "text/plain": [
       "[('Portugal', 'Norway', 'Europe'),\n",
       " ('Portugal', 'Spain', 'Europe'),\n",
       " ('Vietnam', 'Brunei', 'Asia'),\n",
       " ('Vietnam', 'India', 'Asia'),\n",
       " ('Vietnam', 'Oman', 'Asia')]"
      ]
     },
     "execution_count": 10,
     "metadata": {},
     "output_type": "execute_result"
    }
   ],
   "source": [
    "%%sql\n",
    "SELECT \n",
    "    pr1.country AS country1, \n",
    "    pr2.country AS country2, \n",
    "    pr1.continent AS continent\n",
    "FROM prime_ministers AS pr1\n",
    "INNER JOIN prime_ministers AS pr2 \n",
    "    ON pr1.continent = pr2.continent -- compare countries from same continents\n",
    "    AND pr1.country <> pr2.country -- don't compare country with itself\n",
    "LIMIT(5)\n"
   ]
  },
  {
   "cell_type": "markdown",
   "metadata": {},
   "source": [
    "## Set Operations\n"
   ]
  },
  {
   "cell_type": "markdown",
   "metadata": {},
   "source": [
    "Another way of combining tables is through set operations. From set theory there are different ways of visualizing sets using venn diagrams. \n",
    "\n",
    "<img src=\"images/set_operations.png\" width=\"500\"></img>\n"
   ]
  },
  {
   "cell_type": "markdown",
   "metadata": {},
   "source": [
    "### Union & Union All"
   ]
  },
  {
   "cell_type": "markdown",
   "metadata": {},
   "source": [
    "Union operations will only work if the two tables have\n",
    "- The same number of columns\n",
    "- Same data types in the columns\n",
    "\n",
    "The `UNION` operation takes two tables and returns all records from both tables. If two records from the two tables are identical the duplicates are removed. \n",
    "\n",
    "<img src=\"images/union.png\" width=\"400\"></img>\n",
    "\n",
    "\n"
   ]
  },
  {
   "cell_type": "code",
   "execution_count": 14,
   "metadata": {
    "vscode": {
     "languageId": "sql"
    }
   },
   "outputs": [
    {
     "name": "stdout",
     "output_type": "stream",
     "text": [
      " * sqlite:///databases/world.db\n",
      "Done.\n"
     ]
    },
    {
     "data": {
      "text/html": [
       "<table>\n",
       "    <thead>\n",
       "        <tr>\n",
       "            <th>leader</th>\n",
       "            <th>country</th>\n",
       "        </tr>\n",
       "    </thead>\n",
       "    <tbody>\n",
       "        <tr>\n",
       "            <td>Malcolm Turnbull</td>\n",
       "            <td>Australia</td>\n",
       "        </tr>\n",
       "        <tr>\n",
       "            <td>Hassanal Bolkiah</td>\n",
       "            <td>Brunei</td>\n",
       "        </tr>\n",
       "        <tr>\n",
       "            <td>Sherif Ismail</td>\n",
       "            <td>Egypt</td>\n",
       "        </tr>\n",
       "        <tr>\n",
       "            <td>Jack Guy Lafontant</td>\n",
       "            <td>Haiti</td>\n",
       "        </tr>\n",
       "        <tr>\n",
       "            <td>Narendra Modi</td>\n",
       "            <td>India</td>\n",
       "        </tr>\n",
       "    </tbody>\n",
       "</table>"
      ],
      "text/plain": [
       "[('Malcolm Turnbull', 'Australia'),\n",
       " ('Hassanal Bolkiah', 'Brunei'),\n",
       " ('Sherif Ismail', 'Egypt'),\n",
       " ('Jack Guy Lafontant', 'Haiti'),\n",
       " ('Narendra Modi', 'India')]"
      ]
     },
     "execution_count": 14,
     "metadata": {},
     "output_type": "execute_result"
    }
   ],
   "source": [
    "%%sql \n",
    "SELECT monarch AS leader, country\n",
    "FROM monarchs\n",
    "UNION \n",
    "    SELECT prime_minister, country \n",
    "    FROM prime_ministers\n",
    "ORDER BY country, leader\n",
    "LIMIT(5)"
   ]
  },
  {
   "cell_type": "markdown",
   "metadata": {},
   "source": [
    "The `UNION ALL` operation is similar to the `UNION` operation, except the duplicates are not removed\n",
    "\n",
    "<img src=\"images/union_all.png\" width=\"400\"></img>\n"
   ]
  },
  {
   "cell_type": "code",
   "execution_count": 15,
   "metadata": {
    "vscode": {
     "languageId": "sql"
    }
   },
   "outputs": [
    {
     "name": "stdout",
     "output_type": "stream",
     "text": [
      " * sqlite:///databases/world.db\n",
      "Done.\n"
     ]
    },
    {
     "data": {
      "text/html": [
       "<table>\n",
       "    <thead>\n",
       "        <tr>\n",
       "            <th>leader</th>\n",
       "            <th>country</th>\n",
       "        </tr>\n",
       "    </thead>\n",
       "    <tbody>\n",
       "        <tr>\n",
       "            <td>Malcolm Turnbull</td>\n",
       "            <td>Australia</td>\n",
       "        </tr>\n",
       "        <tr>\n",
       "            <td>Hassanal Bolkiah</td>\n",
       "            <td>Brunei</td>\n",
       "        </tr>\n",
       "        <tr>\n",
       "            <td>Hassanal Bolkiah</td>\n",
       "            <td>Brunei</td>\n",
       "        </tr>\n",
       "        <tr>\n",
       "            <td>Sherif Ismail</td>\n",
       "            <td>Egypt</td>\n",
       "        </tr>\n",
       "        <tr>\n",
       "            <td>Jack Guy Lafontant</td>\n",
       "            <td>Haiti</td>\n",
       "        </tr>\n",
       "    </tbody>\n",
       "</table>"
      ],
      "text/plain": [
       "[('Malcolm Turnbull', 'Australia'),\n",
       " ('Hassanal Bolkiah', 'Brunei'),\n",
       " ('Hassanal Bolkiah', 'Brunei'),\n",
       " ('Sherif Ismail', 'Egypt'),\n",
       " ('Jack Guy Lafontant', 'Haiti')]"
      ]
     },
     "execution_count": 15,
     "metadata": {},
     "output_type": "execute_result"
    }
   ],
   "source": [
    "%%sql \n",
    "SELECT monarch AS leader, country\n",
    "FROM monarchs\n",
    "UNION ALL\n",
    "    SELECT prime_minister, country \n",
    "    FROM prime_ministers\n",
    "ORDER BY country, leader\n",
    "LIMIT(5)"
   ]
  },
  {
   "cell_type": "markdown",
   "metadata": {},
   "source": [
    "### Intersect"
   ]
  },
  {
   "cell_type": "markdown",
   "metadata": {},
   "source": [
    "The `INTERSECT` operation only returns the records which are identical (shared) in the two tables. This is similar to an `INNER JOIN` operation with an `AND` clause, the difference is that the `INTERSECT` operations only returns unique rows.\n",
    "\n",
    "<img src=\"images/intersect_vs_inner_join.png\" width=\"800\"></img>\n",
    "\n"
   ]
  },
  {
   "cell_type": "code",
   "execution_count": 17,
   "metadata": {
    "vscode": {
     "languageId": "sql"
    }
   },
   "outputs": [
    {
     "name": "stdout",
     "output_type": "stream",
     "text": [
      " * sqlite:///databases/world.db\n",
      "Done.\n"
     ]
    },
    {
     "data": {
      "text/html": [
       "<table>\n",
       "    <thead>\n",
       "        <tr>\n",
       "            <th>leader</th>\n",
       "            <th>country</th>\n",
       "        </tr>\n",
       "    </thead>\n",
       "    <tbody>\n",
       "        <tr>\n",
       "            <td>Hassanal Bolkiah</td>\n",
       "            <td>Brunei</td>\n",
       "        </tr>\n",
       "        <tr>\n",
       "            <td>Qaboos bin Said al Said</td>\n",
       "            <td>Oman</td>\n",
       "        </tr>\n",
       "    </tbody>\n",
       "</table>"
      ],
      "text/plain": [
       "[('Hassanal Bolkiah', 'Brunei'), ('Qaboos bin Said al Said', 'Oman')]"
      ]
     },
     "execution_count": 17,
     "metadata": {},
     "output_type": "execute_result"
    }
   ],
   "source": [
    "%%sql \n",
    "SELECT monarch AS leader, country\n",
    "FROM monarchs\n",
    "INTERSECT \n",
    "    SELECT prime_minister, country \n",
    "    FROM prime_ministers\n",
    "LIMIT(5)"
   ]
  },
  {
   "cell_type": "markdown",
   "metadata": {},
   "source": [
    "### Except"
   ]
  },
  {
   "cell_type": "markdown",
   "metadata": {},
   "source": [
    "The `EXCEPT` operation identifies the records that are present in one table, but not in the other. The entire record/row/entry needs to match (all column values). \n",
    "\n",
    "\n",
    "<img src=\"images/except.png\" width=\"500\"></img>\n"
   ]
  },
  {
   "cell_type": "code",
   "execution_count": 18,
   "metadata": {
    "vscode": {
     "languageId": "sql"
    }
   },
   "outputs": [
    {
     "name": "stdout",
     "output_type": "stream",
     "text": [
      " * sqlite:///databases/world.db\n",
      "Done.\n"
     ]
    },
    {
     "data": {
      "text/html": [
       "<table>\n",
       "    <thead>\n",
       "        <tr>\n",
       "            <th>leader</th>\n",
       "            <th>country</th>\n",
       "        </tr>\n",
       "    </thead>\n",
       "    <tbody>\n",
       "        <tr>\n",
       "            <td>Felipe VI</td>\n",
       "            <td>Spain</td>\n",
       "        </tr>\n",
       "        <tr>\n",
       "            <td>Harald V</td>\n",
       "            <td>Norway</td>\n",
       "        </tr>\n",
       "    </tbody>\n",
       "</table>"
      ],
      "text/plain": [
       "[('Felipe VI', 'Spain'), ('Harald V', 'Norway')]"
      ]
     },
     "execution_count": 18,
     "metadata": {},
     "output_type": "execute_result"
    }
   ],
   "source": [
    "%%sql \n",
    "SELECT monarch AS leader, country\n",
    "FROM monarchs\n",
    "EXCEPT \n",
    "    SELECT prime_minister, country \n",
    "    FROM prime_ministers\n",
    "LIMIT(5)"
   ]
  },
  {
   "cell_type": "markdown",
   "metadata": {},
   "source": []
  },
  {
   "cell_type": "markdown",
   "metadata": {},
   "source": []
  }
 ],
 "metadata": {
  "kernelspec": {
   "display_name": ".venv",
   "language": "python",
   "name": "python3"
  },
  "language_info": {
   "codemirror_mode": {
    "name": "ipython",
    "version": 3
   },
   "file_extension": ".py",
   "mimetype": "text/x-python",
   "name": "python",
   "nbconvert_exporter": "python",
   "pygments_lexer": "ipython3",
   "version": "3.11.5"
  }
 },
 "nbformat": 4,
 "nbformat_minor": 2
}
