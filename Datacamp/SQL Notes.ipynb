{
 "cells": [
  {
   "cell_type": "markdown",
   "metadata": {},
   "source": [
    "# **SQL Notes**"
   ]
  },
  {
   "cell_type": "code",
   "execution_count": 2,
   "metadata": {
    "vscode": {
     "languageId": "sql"
    }
   },
   "outputs": [
    {
     "name": "stdout",
     "output_type": "stream",
     "text": [
      "The sql extension is already loaded. To reload it, use:\n",
      "  %reload_ext sql\n"
     ]
    }
   ],
   "source": [
    "%load_ext sql"
   ]
  },
  {
   "cell_type": "markdown",
   "metadata": {},
   "source": [
    "## General \n",
    "\n",
    "### Order of Execution\n",
    "SQL code is not processed in the order that it is written, the actual order of execution of the operations is:\n",
    "<!-- |Operation |Description |\n",
    "|--|--|\n",
    "| `FROM` \t\t|first SQL will access the table from which data should be grabbed|\n",
    "| `JOIN` \t\t|then SQL will access other tables that are joined with the initial table|\n",
    "| `WHERE` \t\t|then SQL will apply a filter on the data in the (joined) table|\n",
    "| `GROUP BY` \t|next SQL will group the data in the (joined) table if applicable|\n",
    "| `HAVING` \t|then SQL will apply a filter on the grouped data in the (joined) table|\n",
    "| [...]\t\t|Window Functions|\n",
    "| `SELECT` \t|then SQL will look at which columns from the table the user has requested|\n",
    "| `DISTINCT`\t |the select operation will return a column, from which the unique values can be extracted|\n",
    "| `UNION`\t\t|then SQL can combine the resulting columns with other tables using set operations|\n",
    "| `ORDER BY` \t|then SQL will sort the values in the resulting table|\n",
    "| `OFFSET`\t\t|then SQL will ignore a set of values in the resulting table|\n",
    "| `LIMIT / TOP` \t|finally SQL will output part of the table| -->\n",
    "\n",
    "- `FROM` \t\tfirst SQL will access the table from which data should be grabbed\n",
    "- `JOIN` \t\tthen SQL will access other tables that are joined with the initial table\n",
    "- `WHERE` \t\tthen SQL will apply a filter on the data in the (joined) table\n",
    "- `GROUP BY` \tnext SQL will group the data in the (joined) table if applicable\n",
    "- `HAVING` \tthen SQL will apply a filter on the grouped data in the (joined) table\n",
    "- [...]\t\tWindow Functions\n",
    "- `SELECT` \tthen SQL will look at which columns from the table the user has requested\n",
    "- `DISTINCT`\t the select operation will return a column, from which the unique values can be extracted\n",
    "- `UNION`\t\tthen SQL can combine the resulting columns with other tables using set operations\n",
    "- `ORDER BY` \tthen SQL will sort the values in the resulting table\n",
    "- `OFFSET`\t\tthen SQL will ignore a set of values in the resulting table\n",
    "- `LIMIT / TOP` \tfinally SQL will output part of the table\n",
    "\n",
    "\n",
    "<!-- <table>\n",
    "    <tr>\n",
    "        <th>Operation</th>\n",
    "        <th>Description</th>\n",
    "    </tr>\n",
    "    <tr>\n",
    "        <td>`FROM`</td>\n",
    "        <td>first SQL will access the table from which data should be grabbed</td>\n",
    "    </tr>\n",
    "    <tr>\n",
    "        <td>row 2, cell 1</td>\n",
    "        <td>row 2, cell 2</td>\n",
    "    </tr>\n",
    "</table> -->"
   ]
  },
  {
   "cell_type": "markdown",
   "metadata": {},
   "source": [
    "## Filter Data"
   ]
  },
  {
   "cell_type": "code",
   "execution_count": 4,
   "metadata": {
    "vscode": {
     "languageId": "sql"
    }
   },
   "outputs": [],
   "source": [
    "%sql sqlite:///cinema.db"
   ]
  },
  {
   "cell_type": "markdown",
   "metadata": {},
   "source": [
    "### Where - Numeric"
   ]
  },
  {
   "cell_type": "markdown",
   "metadata": {},
   "source": [
    "The `WHERE` statement can be used to filter numeric data through the following set of operators\n",
    "- `=`\tequals to\n",
    "- `>`\tgreater than\n",
    "- `<`\tless than\n",
    "- `>=`\tgreater than or equal to\n",
    "- `<=`\tless than or equal to\n",
    "- `<>`\tnot equal to"
   ]
  },
  {
   "cell_type": "code",
   "execution_count": 5,
   "metadata": {
    "vscode": {
     "languageId": "sql"
    }
   },
   "outputs": [
    {
     "name": "stdout",
     "output_type": "stream",
     "text": [
      " * sqlite:///cinema.db\n",
      "Done.\n"
     ]
    },
    {
     "data": {
      "text/html": [
       "<table>\n",
       "    <thead>\n",
       "        <tr>\n",
       "            <th>title</th>\n",
       "        </tr>\n",
       "    </thead>\n",
       "    <tbody>\n",
       "        <tr>\n",
       "            <td>Elmer Gantry</td>\n",
       "        </tr>\n",
       "        <tr>\n",
       "            <td>Psycho</td>\n",
       "        </tr>\n",
       "        <tr>\n",
       "            <td>The Apartment</td>\n",
       "        </tr>\n",
       "    </tbody>\n",
       "</table>"
      ],
      "text/plain": [
       "[('Elmer Gantry',), ('Psycho',), ('The Apartment',)]"
      ]
     },
     "execution_count": 5,
     "metadata": {},
     "output_type": "execute_result"
    }
   ],
   "source": [
    "%%sql\n",
    "SELECT title \n",
    "FROM films\n",
    "WHERE release_year = 1960"
   ]
  },
  {
   "cell_type": "markdown",
   "metadata": {},
   "source": [
    "The `BETWEEN` statement can be used to filter numeric data between two values (inclusive)"
   ]
  },
  {
   "cell_type": "code",
   "execution_count": 8,
   "metadata": {
    "vscode": {
     "languageId": "sql"
    }
   },
   "outputs": [
    {
     "name": "stdout",
     "output_type": "stream",
     "text": [
      " * sqlite:///cinema.db\n",
      "Done.\n"
     ]
    },
    {
     "data": {
      "text/html": [
       "<table>\n",
       "    <thead>\n",
       "        <tr>\n",
       "            <th>title</th>\n",
       "        </tr>\n",
       "    </thead>\n",
       "    <tbody>\n",
       "        <tr>\n",
       "            <td>3 Ninjas Kick Back</td>\n",
       "        </tr>\n",
       "        <tr>\n",
       "            <td>A Low Down Dirty Shame</td>\n",
       "        </tr>\n",
       "        <tr>\n",
       "            <td>Ace Ventura: Pet Detective</td>\n",
       "        </tr>\n",
       "        <tr>\n",
       "            <td>Baby&#x27;s Day Out</td>\n",
       "        </tr>\n",
       "        <tr>\n",
       "            <td>Beverly Hills Cop III</td>\n",
       "        </tr>\n",
       "    </tbody>\n",
       "</table>"
      ],
      "text/plain": [
       "[('3 Ninjas Kick Back',),\n",
       " ('A Low Down Dirty Shame',),\n",
       " ('Ace Ventura: Pet Detective',),\n",
       " (\"Baby's Day Out\",),\n",
       " ('Beverly Hills Cop III',)]"
      ]
     },
     "execution_count": 8,
     "metadata": {},
     "output_type": "execute_result"
    }
   ],
   "source": [
    "%%sql \n",
    "SELECT title\n",
    "FROM films\n",
    "WHERE release_year BETWEEN 1994 AND 2000\n",
    "LIMIT 5"
   ]
  },
  {
   "cell_type": "markdown",
   "metadata": {},
   "source": [
    "When performing a `WHERE` filter for multiple entries, the IN operator may be used"
   ]
  },
  {
   "cell_type": "code",
   "execution_count": 9,
   "metadata": {
    "vscode": {
     "languageId": "sql"
    }
   },
   "outputs": [
    {
     "name": "stdout",
     "output_type": "stream",
     "text": [
      " * sqlite:///cinema.db\n",
      "Done.\n"
     ]
    },
    {
     "data": {
      "text/html": [
       "<table>\n",
       "    <thead>\n",
       "        <tr>\n",
       "            <th>title</th>\n",
       "        </tr>\n",
       "    </thead>\n",
       "    <tbody>\n",
       "        <tr>\n",
       "            <td>Over the Hill to the Poorhouse</td>\n",
       "        </tr>\n",
       "        <tr>\n",
       "            <td>Hell&#x27;s Angels</td>\n",
       "        </tr>\n",
       "        <tr>\n",
       "            <td>Boom Town</td>\n",
       "        </tr>\n",
       "        <tr>\n",
       "            <td>Fantasia</td>\n",
       "        </tr>\n",
       "        <tr>\n",
       "            <td>Pinocchio</td>\n",
       "        </tr>\n",
       "    </tbody>\n",
       "</table>"
      ],
      "text/plain": [
       "[('Over the Hill to the Poorhouse',),\n",
       " (\"Hell's Angels\",),\n",
       " ('Boom Town',),\n",
       " ('Fantasia',),\n",
       " ('Pinocchio',)]"
      ]
     },
     "execution_count": 9,
     "metadata": {},
     "output_type": "execute_result"
    }
   ],
   "source": [
    "%%sql\n",
    "SELECT title \n",
    "FROM films\n",
    "WHERE release_year IN (1920, 1930, 1940)\n",
    "LIMIT 5"
   ]
  },
  {
   "cell_type": "markdown",
   "metadata": {},
   "source": [
    "### Where - Text"
   ]
  },
  {
   "cell_type": "markdown",
   "metadata": {},
   "source": [
    "If one is interested in filtering the data based on the entire/exact string, then the same operations for filtering numeric data can be used. \n",
    "\n",
    "The `LIKE` operator can be used to look for a sub-string in the string records/rows of a field/column. Here the `%` symbol is used to determine where any number of non-matching characters are allowed to be located  \n",
    "- `‘The%’`\tString has to start with ‘The’  \n",
    "- `‘%The’`\tString has to end with ‘The’  \n",
    "- `‘%The%’`\tString must contain ‘The’  "
   ]
  },
  {
   "cell_type": "code",
   "execution_count": 10,
   "metadata": {
    "vscode": {
     "languageId": "sql"
    }
   },
   "outputs": [
    {
     "name": "stdout",
     "output_type": "stream",
     "text": [
      " * sqlite:///cinema.db\n",
      "Done.\n"
     ]
    },
    {
     "data": {
      "text/html": [
       "<table>\n",
       "    <thead>\n",
       "        <tr>\n",
       "            <th>name</th>\n",
       "        </tr>\n",
       "    </thead>\n",
       "    <tbody>\n",
       "        <tr>\n",
       "            <td>Adel Karam</td>\n",
       "        </tr>\n",
       "        <tr>\n",
       "            <td>Adelaide Kane</td>\n",
       "        </tr>\n",
       "        <tr>\n",
       "            <td>Aden Young</td>\n",
       "        </tr>\n",
       "    </tbody>\n",
       "</table>"
      ],
      "text/plain": [
       "[('Adel Karam',), ('Adelaide Kane',), ('Aden Young',)]"
      ]
     },
     "execution_count": 10,
     "metadata": {},
     "output_type": "execute_result"
    }
   ],
   "source": [
    "%%sql \n",
    "SELECT name\n",
    "FROM people\n",
    "WHERE name LIKE 'Ade%'"
   ]
  },
  {
   "cell_type": "markdown",
   "metadata": {},
   "source": [
    "Alternatively the `_` symbol is used to determine where a *single non-matching character* is allowed to be located"
   ]
  },
  {
   "cell_type": "code",
   "execution_count": 11,
   "metadata": {
    "vscode": {
     "languageId": "sql"
    }
   },
   "outputs": [
    {
     "name": "stdout",
     "output_type": "stream",
     "text": [
      " * sqlite:///cinema.db\n",
      "Done.\n"
     ]
    },
    {
     "data": {
      "text/html": [
       "<table>\n",
       "    <thead>\n",
       "        <tr>\n",
       "            <th>name</th>\n",
       "        </tr>\n",
       "    </thead>\n",
       "    <tbody>\n",
       "        <tr>\n",
       "            <td>Eve</td>\n",
       "        </tr>\n",
       "    </tbody>\n",
       "</table>"
      ],
      "text/plain": [
       "[('Eve',)]"
      ]
     },
     "execution_count": 11,
     "metadata": {},
     "output_type": "execute_result"
    }
   ],
   "source": [
    "%%sql\n",
    "SELECT name\n",
    "FROM people\n",
    "WHERE name LIKE 'Ev_'"
   ]
  },
  {
   "cell_type": "markdown",
   "metadata": {},
   "source": [
    "Similar to filtering numeric data the `IN` operator may be used to check if a string is in a list "
   ]
  },
  {
   "cell_type": "code",
   "execution_count": 14,
   "metadata": {
    "vscode": {
     "languageId": "sql"
    }
   },
   "outputs": [
    {
     "name": "stdout",
     "output_type": "stream",
     "text": [
      " * sqlite:///cinema.db\n",
      "Done.\n"
     ]
    },
    {
     "data": {
      "text/html": [
       "<table>\n",
       "    <thead>\n",
       "        <tr>\n",
       "            <th>title</th>\n",
       "        </tr>\n",
       "    </thead>\n",
       "    <tbody>\n",
       "        <tr>\n",
       "            <td>Metropolis</td>\n",
       "        </tr>\n",
       "        <tr>\n",
       "            <td>Pandora&#x27;s Box</td>\n",
       "        </tr>\n",
       "        <tr>\n",
       "            <td>The Train</td>\n",
       "        </tr>\n",
       "        <tr>\n",
       "            <td>Une Femme Mariée</td>\n",
       "        </tr>\n",
       "        <tr>\n",
       "            <td>Pierrot le Fou</td>\n",
       "        </tr>\n",
       "    </tbody>\n",
       "</table>"
      ],
      "text/plain": [
       "[('Metropolis',),\n",
       " (\"Pandora's Box\",),\n",
       " ('The Train',),\n",
       " ('Une Femme Mariée',),\n",
       " ('Pierrot le Fou',)]"
      ]
     },
     "execution_count": 14,
     "metadata": {},
     "output_type": "execute_result"
    }
   ],
   "source": [
    "%%sql\n",
    "SELECT title \n",
    "FROM films \n",
    "WHERE country IN ('Germany', 'France')\n",
    "LIMIT(5)"
   ]
  },
  {
   "cell_type": "markdown",
   "metadata": {},
   "source": [
    "### Having - Grouped"
   ]
  },
  {
   "cell_type": "markdown",
   "metadata": {},
   "source": [
    "The `WHERE` operator will not work on grouped data as it is executed before the `GROUP BY` operation. Instead the `HAVING` operator can be used. "
   ]
  },
  {
   "cell_type": "code",
   "execution_count": 17,
   "metadata": {
    "vscode": {
     "languageId": "sql"
    }
   },
   "outputs": [
    {
     "name": "stdout",
     "output_type": "stream",
     "text": [
      " * sqlite:///cinema.db\n",
      "Done.\n"
     ]
    },
    {
     "data": {
      "text/html": [
       "<table>\n",
       "    <thead>\n",
       "        <tr>\n",
       "            <th>release_year</th>\n",
       "            <th>title_count</th>\n",
       "        </tr>\n",
       "    </thead>\n",
       "    <tbody>\n",
       "        <tr>\n",
       "            <td>1968</td>\n",
       "            <td>11</td>\n",
       "        </tr>\n",
       "        <tr>\n",
       "            <td>1970</td>\n",
       "            <td>12</td>\n",
       "        </tr>\n",
       "        <tr>\n",
       "            <td>1971</td>\n",
       "            <td>11</td>\n",
       "        </tr>\n",
       "        <tr>\n",
       "            <td>1977</td>\n",
       "            <td>16</td>\n",
       "        </tr>\n",
       "        <tr>\n",
       "            <td>1978</td>\n",
       "            <td>16</td>\n",
       "        </tr>\n",
       "    </tbody>\n",
       "</table>"
      ],
      "text/plain": [
       "[('1968', 11), ('1970', 12), ('1971', 11), ('1977', 16), ('1978', 16)]"
      ]
     },
     "execution_count": 17,
     "metadata": {},
     "output_type": "execute_result"
    }
   ],
   "source": [
    "%%sql \n",
    "SELECT release_year, COUNT(title) AS title_count\n",
    "FROM films\n",
    "GROUP BY release_year\n",
    "HAVING COUNT(title) > 10\n",
    "LIMIT(5)"
   ]
  },
  {
   "cell_type": "code",
   "execution_count": null,
   "metadata": {
    "vscode": {
     "languageId": "sql"
    }
   },
   "outputs": [],
   "source": []
  }
 ],
 "metadata": {
  "kernelspec": {
   "display_name": ".venv",
   "language": "python",
   "name": "python3"
  },
  "language_info": {
   "codemirror_mode": {
    "name": "ipython",
    "version": 3
   },
   "file_extension": ".py",
   "mimetype": "text/x-python",
   "name": "python",
   "nbconvert_exporter": "python",
   "pygments_lexer": "ipython3",
   "version": "3.11.5"
  }
 },
 "nbformat": 4,
 "nbformat_minor": 2
}
